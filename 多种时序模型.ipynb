{
 "cells": [
  {
   "cell_type": "code",
   "execution_count": null,
   "metadata": {},
   "outputs": [],
   "source": [
    "import numpy as np\n",
    "import pandas as pd\n",
    "\n",
    "import seaborn as sns\n",
    "import matplotlib.pyplot as plt\n",
    "from colorama import Fore\n",
    "\n",
    "from sklearn.metrics import mean_absolute_error, mean_squared_error\n",
    "import math\n",
    "\n",
    "import warnings  # Supress warnings\n",
    "warnings.filterwarnings('ignore')\n",
    "plt.rcParams['font.sans-serif'] = ['SimHei']  # 用来正常显示中文标签\n",
    "plt.rcParams['axes.unicode_minus'] = False  # 用来正常显示负号\n",
    "np.random.seed(7)\n"
   ]
  },
  {
   "cell_type": "code",
   "execution_count": null,
   "metadata": {},
   "outputs": [],
   "source": [
    "df = pd.read_csv(r\"当地天气状况处理.csv\")\n",
    "df = df.drop(['Unnamed: 0'], axis=1)\n",
    "df"
   ]
  },
  {
   "cell_type": "code",
   "execution_count": null,
   "metadata": {},
   "outputs": [],
   "source": [
    "# df  = df.rename(columns={'日期1':'date'})\n",
    "# # del df['日期1']\n",
    "# df"
   ]
  },
  {
   "cell_type": "markdown",
   "metadata": {},
   "source": [
    "# 查看时序"
   ]
  },
  {
   "cell_type": "code",
   "execution_count": null,
   "metadata": {},
   "outputs": [],
   "source": [
    "from datetime import datetime, date \n",
    "\n",
    "df['date'] = pd.to_datetime(df['date'])\n",
    "df.head().style.set_properties(subset=['date'], **{'background-color': 'dodgerblue'})"
   ]
  },
  {
   "cell_type": "code",
   "execution_count": null,
   "metadata": {},
   "outputs": [],
   "source": [
    "df1 = df[:24*4*15]\n",
    "df1"
   ]
  },
  {
   "cell_type": "code",
   "execution_count": null,
   "metadata": {},
   "outputs": [],
   "source": [
    "# To compelte the data, as naive method, we will use ffill\n",
    "df1 = df[:24*4*15]\n",
    "\n",
    "f, ax = plt.subplots(nrows=7, ncols=1, figsize=(15, 30))\n",
    "\n",
    "\n",
    "for i, column in enumerate(df1.drop('date', axis=1).columns):\n",
    "    sns.lineplot(x=df1['date'], y=df1[column].fillna(method='ffill'), ax=ax[i], color='dodgerblue')\n",
    "#     ax[i].set_title('Feature: {}'.format(column), fontsize=14)\n",
    "    ax[i].set_ylabel(ylabel=column, fontsize=14)\n",
    "                      \n",
    "    ax[i].set_xlim([date(2018, 1, 1), date(2018, 1, 15)])   "
   ]
  },
  {
   "cell_type": "code",
   "execution_count": null,
   "metadata": {},
   "outputs": [],
   "source": [
    "df = df.sort_values(by='date')\n",
    "\n",
    "# Check time intervals\n",
    "df['delta'] = df['date'] - df['date'].shift(1)\n",
    "\n",
    "df[['date', 'delta']].head()"
   ]
  },
  {
   "cell_type": "code",
   "execution_count": null,
   "metadata": {},
   "outputs": [],
   "source": [
    "df['delta'].sum(), df['delta'].count()"
   ]
  },
  {
   "cell_type": "code",
   "execution_count": null,
   "metadata": {},
   "outputs": [],
   "source": [
    "df = df.drop('delta', axis=1)\n",
    "df.isna().sum()"
   ]
  },
  {
   "cell_type": "markdown",
   "metadata": {},
   "source": [
    "# 异常值缺失值"
   ]
  },
  {
   "cell_type": "code",
   "execution_count": null,
   "metadata": {},
   "outputs": [],
   "source": [
    "f, ax = plt.subplots(nrows=2, ncols=1, figsize=(15, 15))\n",
    "\n",
    "df1['总有功功率（kw）'] = df1['总有功功率（kw）'].replace(np.nan, 180000)\n",
    "ol = df1[df1['总有功功率（kw）']==180000]['总有功功率（kw）'].copy()\n",
    "sns.lineplot(x=df1['date'], y=df1['总有功功率（kw）'].fillna(np.inf), ax=ax[0], color='dodgerblue', label='modified')\n",
    "sns.lineplot(x=df1['date'], y=ol, ax=ax[0], color='red', label='original')\n",
    "\n",
    "ax[0].set_title('Feature: 总有功功率（kw）', fontsize=14)\n",
    "ax[0].set_ylabel(ylabel='总有功功率（kw）', fontsize=14)\n",
    "ax[0].set_xlim([date(2018, 1, 1), date(2018, 1, 15)])\n",
    "\n",
    "o = df1['最高温度'].copy()\n",
    "df1['最高温度'] = df1['最高温度'].replace(0, np.nan)\n",
    "\n",
    "sns.lineplot(x=df1['date'], y=o, ax=ax[1], color='darkorange', label='original')\n",
    "sns.lineplot(x=df1['date'], y=df1['最高温度'].fillna(np.inf), ax=ax[1], color='dodgerblue', label='modified')\n",
    "ax[1].set_title('Feature: 最高温度', fontsize=14)\n",
    "ax[1].set_ylabel(ylabel='最高温度', fontsize=14)\n",
    "ax[1].set_xlim([date(2018, 1, 1), date(2018, 1, 15)])"
   ]
  },
  {
   "cell_type": "code",
   "execution_count": null,
   "metadata": {},
   "outputs": [],
   "source": [
    "f, ax = plt.subplots(nrows=4, ncols=1, figsize=(15, 12))\n",
    "\n",
    "sns.lineplot(x=df['date'], y=df['总有功功率（kw）'].fillna(0), ax=ax[0], color='darkorange', label = 'modified')\n",
    "sns.lineplot(x=df['date'], y=df['总有功功率（kw）'].fillna(np.inf), ax=ax[0], color='dodgerblue', label = 'original')\n",
    "ax[0].set_title('Fill NaN with 0', fontsize=14)\n",
    "ax[0].set_ylabel(ylabel='Volume', fontsize=14)\n",
    "\n",
    "mean_drainage = df['总有功功率（kw）'].mean()\n",
    "sns.lineplot(x=df['date'], y=df['总有功功率（kw）'].fillna(mean_drainage), ax=ax[1], color='darkorange', label = 'modified')\n",
    "sns.lineplot(x=df['date'], y=df['总有功功率（kw）'].fillna(np.inf), ax=ax[1], color='dodgerblue', label = 'original')\n",
    "ax[1].set_title(f'Fill NaN with Mean Value ({mean_drainage:.0f})', fontsize=14)\n",
    "ax[1].set_ylabel(ylabel='Volume', fontsize=14)\n",
    "\n",
    "sns.lineplot(x=df['date'], y=df['总有功功率（kw）'].ffill(), ax=ax[2], color='darkorange', label = 'modified')\n",
    "sns.lineplot(x=df['date'], y=df['总有功功率（kw）'].fillna(np.inf), ax=ax[2], color='dodgerblue', label = 'original')\n",
    "ax[2].set_title(f'FFill', fontsize=14)\n",
    "ax[2].set_ylabel(ylabel='Volume', fontsize=14)\n",
    "\n",
    "sns.lineplot(x=df['date'], y=df['总有功功率（kw）'].interpolate(), ax=ax[3], color='darkorange', label = 'modified')\n",
    "sns.lineplot(x=df['date'], y=df['总有功功率（kw）'].fillna(np.inf), ax=ax[3], color='dodgerblue', label = 'original')\n",
    "ax[3].set_title(f'Interpolate', fontsize=14)\n",
    "ax[3].set_ylabel(ylabel='Volume', fontsize=14)\n",
    "\n",
    "for i in range(4):\n",
    "    ax[i].set_xlim([date(2018, 1, 1), date(2018, 1, 15)])\n",
    "    \n",
    "plt.tight_layout()\n",
    "plt.show()"
   ]
  },
  {
   "cell_type": "code",
   "execution_count": null,
   "metadata": {},
   "outputs": [],
   "source": [
    "df['总有功功率（kw）'] = df['总有功功率（kw）'].interpolate()"
   ]
  },
  {
   "cell_type": "markdown",
   "metadata": {},
   "source": [
    "# 数据平滑与采样"
   ]
  },
  {
   "cell_type": "markdown",
   "metadata": {},
   "source": [
    "重采样可以提供数据的附加信息。有两种类型的重采样: \n",
    "上采样是指增加采样频率(例如从几天到几小时) \n",
    "下采样是指降低采样频率(例如，从几天到几周) \n",
    "在这个例子中，我们将使用。resample()函数"
   ]
  },
  {
   "cell_type": "code",
   "execution_count": null,
   "metadata": {},
   "outputs": [],
   "source": [
    "fig, ax = plt.subplots(ncols=1, nrows=3, sharex=True, figsize=(16,12))\n",
    "\n",
    "sns.lineplot(df['date'], df['总有功功率（kw）'], color='dodgerblue', ax=ax[0])\n",
    "ax[0].set_title('总有功功率（kw）Volume', fontsize=14)\n",
    "\n",
    "resampled_df = df[['date','总有功功率（kw）']].resample('1D', on='date').sum().reset_index(drop=False)\n",
    "sns.lineplot(resampled_df['date'], resampled_df['总有功功率（kw）'], color='dodgerblue', ax=ax[1])\n",
    "ax[1].set_title('Weekly 总有功功率（kw）Volume', fontsize=14)\n",
    "\n",
    "resampled_df = df[['date','总有功功率（kw）']].resample('3D', on='date').sum().reset_index(drop=False)\n",
    "sns.lineplot(resampled_df['date'], resampled_df['总有功功率（kw）'], color='dodgerblue', ax=ax[2])\n",
    "ax[2].set_title('Monthly 总有功功率（kw）Volume', fontsize=14)\n",
    "\n",
    "for i in range(3):\n",
    "    ax[i].set_xlim([date(2018, 1, 1), date(2018, 1, 14)])\n"
   ]
  },
  {
   "cell_type": "markdown",
   "metadata": {},
   "source": [
    "# Stationarity(平稳性检验)"
   ]
  },
  {
   "cell_type": "markdown",
   "metadata": {},
   "source": [
    "目测:绘制时间序列并检查趋势或季节性 \n",
    "基本统计:分割时间序列并比较每个分区的平均值和方差 \n",
    "统计检验:增强的迪基富勒检验"
   ]
  },
  {
   "cell_type": "code",
   "execution_count": null,
   "metadata": {},
   "outputs": [],
   "source": [
    "# A year has 52 weeks (52 weeks * 7 days per week) aporx.\n",
    "rolling_window = 52\n",
    "f, ax = plt.subplots(nrows=1, ncols=1, figsize=(15, 6))\n",
    "\n",
    "sns.lineplot(x=df1['date'], y=df1['总有功功率（kw）'], color='dodgerblue')\n",
    "sns.lineplot(x=df1['date'], y=df1['总有功功率（kw）'].rolling(rolling_window).mean(), color='black', label='rolling mean')\n",
    "sns.lineplot(x=df1['date'], y=df1['总有功功率（kw）'].rolling(rolling_window).std(), color='orange', label='rolling std')\n",
    "ax.set_title('Depth to Groundwater: Non-stationary \\nnon-constant mean & non-constant variance', fontsize=14)\n",
    "ax.set_ylabel(ylabel='总有功功率（kw） Volume', fontsize=14)\n",
    "ax.set_xlim([date(2018, 1, 1), date(2018, 1, 15)])\n",
    "plt.tight_layout()\n",
    "plt.savefig('20180101_0115平稳性.png')\n",
    "plt.show()"
   ]
  },
  {
   "cell_type": "markdown",
   "metadata": {},
   "source": [
    "现在，我们将检查每个变量: p值小于0.05 检查ADF统计值与critical_values的比较范围"
   ]
  },
  {
   "cell_type": "code",
   "execution_count": null,
   "metadata": {},
   "outputs": [],
   "source": [
    "from statsmodels.tsa.stattools import adfuller\n",
    "\n",
    "result = adfuller(df['总有功功率（kw）'].values)\n",
    "result"
   ]
  },
  {
   "cell_type": "code",
   "execution_count": null,
   "metadata": {},
   "outputs": [],
   "source": [
    "df1"
   ]
  },
  {
   "cell_type": "code",
   "execution_count": null,
   "metadata": {},
   "outputs": [],
   "source": [
    "f, ax = plt.subplots(nrows=1, ncols=1, figsize=(12, 6))\n",
    "\n",
    "def visualize_adfuller_results(series, title, ax=ax):\n",
    "    result = adfuller(series)\n",
    "    significance_level = 0.05\n",
    "    adf_stat = result[0]\n",
    "    p_val = result[1]\n",
    "    crit_val_1 = result[4]['1%']\n",
    "    crit_val_5 = result[4]['5%']\n",
    "    crit_val_10 = result[4]['10%']\n",
    "\n",
    "    if (p_val < significance_level) & ((adf_stat < crit_val_1)):\n",
    "        linecolor = 'red' \n",
    "    elif (p_val < significance_level) & (adf_stat < crit_val_5):\n",
    "        linecolor = 'orange'\n",
    "    elif (p_val < significance_level) & (adf_stat < crit_val_10):\n",
    "        linecolor = 'forestgreen'\n",
    "    else:\n",
    "        linecolor = 'purple'\n",
    "    sns.lineplot(x=df1['date'], y=series, ax=ax, color=linecolor)\n",
    "    ax.set_title(f'ADF Statistic {adf_stat:0.3f}, p-value: {p_val:0.3f}\\nCritical Values 1%: {crit_val_1:0.3f}, 5%: {crit_val_5:0.3f}, 10%: {crit_val_10:0.3f}', fontsize=14)\n",
    "    ax.set_ylabel(ylabel=title, fontsize=14)\n",
    "\n",
    "visualize_adfuller_results(df1['总有功功率（kw）'].values, 'Temperature', )\n",
    "\n",
    "plt.tight_layout()\n",
    "plt.savefig('总有功功率（kw）平稳性.png')\n",
    "plt.show()"
   ]
  },
  {
   "cell_type": "code",
   "execution_count": null,
   "metadata": {},
   "outputs": [],
   "source": [
    "ts_diff = np.diff(df['总有功功率（kw）'])\n",
    "df['总有功功率（kw）_diff_1'] = np.append([0], ts_diff)\n",
    "\n",
    "f, ax = plt.subplots(nrows=1, ncols=1, figsize=(15, 6))\n",
    "visualize_adfuller_results(df['总有功功率（kw）_diff_1'], 'Differenced (1. Order) \\n Depth to Groundwater', ax)"
   ]
  },
  {
   "cell_type": "markdown",
   "metadata": {},
   "source": [
    "# 特征工程"
   ]
  },
  {
   "cell_type": "markdown",
   "metadata": {},
   "source": [
    "时序提取"
   ]
  },
  {
   "cell_type": "code",
   "execution_count": null,
   "metadata": {},
   "outputs": [],
   "source": [
    "df['year'] = pd.DatetimeIndex(df['date']).year\n",
    "df['month'] = pd.DatetimeIndex(df['date']).month\n",
    "df['day'] = pd.DatetimeIndex(df['date']).day\n",
    "df['day_of_year'] = pd.DatetimeIndex(df['date']).dayofyear\n",
    "df['week_of_year'] = pd.DatetimeIndex(df['date']).weekofyear\n",
    "df['quarter'] = pd.DatetimeIndex(df['date']).quarter\n",
    "df['season'] = df['month'] % 12 // 3 + 1\n",
    "\n",
    "df[['date', 'year', 'month', 'day', 'day_of_year', 'week_of_year', 'quarter', 'season']].head()"
   ]
  },
  {
   "cell_type": "code",
   "execution_count": null,
   "metadata": {},
   "outputs": [],
   "source": [
    "from statsmodels.tsa.seasonal import seasonal_decompose\n",
    "\n",
    "core_columns =  ['总有功功率（kw）']\n",
    "\n",
    "for column in core_columns:\n",
    "    decomp = seasonal_decompose(df[column], period=52, model='additive', extrapolate_trend='freq')\n",
    "    df[f\"{column}_trend\"] = decomp.trend\n",
    "    df[f\"{column}_seasonal\"] = decomp.seasonal"
   ]
  },
  {
   "cell_type": "code",
   "execution_count": null,
   "metadata": {},
   "outputs": [],
   "source": [
    "fig, ax = plt.subplots(ncols=2, nrows=4, sharex=True, figsize=(16,8))\n",
    "\n",
    "for i, column in enumerate(['总有功功率（kw）', '最低温度']):\n",
    "    \n",
    "    res = seasonal_decompose(df1[column], freq=52, model='additive', extrapolate_trend='freq')\n",
    "\n",
    "    ax[0,i].set_title('Decomposition of {}'.format(column), fontsize=16)\n",
    "    res.observed.plot(ax=ax[0,i], legend=False, color='red')\n",
    "    ax[0,i].set_ylabel('Observed', fontsize=14)\n",
    "\n",
    "    res.trend.plot(ax=ax[1,i], legend=False, color='red')\n",
    "    ax[1,i].set_ylabel('Trend', fontsize=14)\n",
    "\n",
    "    res.seasonal.plot(ax=ax[2,i], legend=False, color='red')\n",
    "    ax[2,i].set_ylabel('Seasonal', fontsize=14)\n",
    "    \n",
    "    res.resid.plot(ax=ax[3,i], legend=False, color='red')#dodgerblue\n",
    "    ax[3,i].set_ylabel('Residual', fontsize=14)\n",
    "plt.savefig('时间序列分解.png')\n",
    "plt.show()"
   ]
  },
  {
   "cell_type": "markdown",
   "metadata": {},
   "source": [
    "# 滞后特征"
   ]
  },
  {
   "cell_type": "code",
   "execution_count": null,
   "metadata": {},
   "outputs": [],
   "source": [
    "weeks_in_month = 4\n",
    "\n",
    "for column in core_columns:\n",
    "    df[f'{column}_seasonal_shift_b_2m'] = df[f'{column}_seasonal'].shift(-2 * weeks_in_month)\n",
    "    df[f'{column}_seasonal_shift_b_1m'] = df[f'{column}_seasonal'].shift(-1 * weeks_in_month)\n",
    "    df[f'{column}_seasonal_shift_1m'] = df[f'{column}_seasonal'].shift(1 * weeks_in_month)\n",
    "    df[f'{column}_seasonal_shift_2m'] = df[f'{column}_seasonal'].shift(2 * weeks_in_month)\n",
    "    df[f'{column}_seasonal_shift_3m'] = df[f'{column}_seasonal'].shift(3 * weeks_in_month)"
   ]
  },
  {
   "cell_type": "markdown",
   "metadata": {},
   "source": [
    "# 探索性数据分析"
   ]
  },
  {
   "cell_type": "code",
   "execution_count": null,
   "metadata": {},
   "outputs": [],
   "source": [
    "f, ax = plt.subplots(nrows=1, ncols=1, figsize=(8, 8))\n",
    "\n",
    "shifted_cols = df.columns[:8]\n",
    "corrmat = df[shifted_cols].corr()\n",
    "\n",
    "sns.heatmap(corrmat, annot=True, vmin=-1, vmax=1, cmap='YlGnBu')\n",
    "ax.set_title('Correlation Matrix of Lagged Features', fontsize=16)\n",
    "\n",
    "plt.xticks(rotation=30) \n",
    "plt.tight_layout()\n",
    "plt.savefig('相关性.png')\n",
    "plt.show()"
   ]
  },
  {
   "cell_type": "code",
   "execution_count": null,
   "metadata": {},
   "outputs": [],
   "source": []
  },
  {
   "cell_type": "markdown",
   "metadata": {},
   "source": [
    "# 自相关分析"
   ]
  },
  {
   "cell_type": "code",
   "execution_count": null,
   "metadata": {},
   "outputs": [],
   "source": [
    "from pandas.plotting import autocorrelation_plot\n",
    "df1['总有功功率（kw）_diff_1']= df1['总有功功率（kw）'] - df1['总有功功率（kw）'].shift(1)\n",
    "autocorrelation_plot(df1['总有功功率（kw）_diff_1'])\n",
    "plt.savefig('一阶自相关.png')\n",
    "plt.show()"
   ]
  },
  {
   "cell_type": "code",
   "execution_count": null,
   "metadata": {},
   "outputs": [],
   "source": [
    "import statsmodels.api as sm\n",
    "from statsmodels.stats.diagnostic import acorr_ljungbox\n",
    "from statsmodels.graphics.tsaplots import plot_pacf,plot_acf\n",
    "print(sm.tsa.stattools.adfuller(df['总有功功率（kw）']))"
   ]
  },
  {
   "cell_type": "code",
   "execution_count": null,
   "metadata": {},
   "outputs": [],
   "source": [
    "acorr_ljungbox(df['总有功功率（kw）'], lags = [6, 12],boxpierce=True)"
   ]
  },
  {
   "cell_type": "code",
   "execution_count": null,
   "metadata": {},
   "outputs": [],
   "source": [
    "# ACF\n",
    "acf=plot_acf(df['总有功功率（kw）'])\n",
    "plt.title(\"总有功功率（kw）的自相关图\")\n",
    "plt.savefig('ACF.png')\n",
    "plt.show()"
   ]
  },
  {
   "cell_type": "code",
   "execution_count": null,
   "metadata": {},
   "outputs": [],
   "source": [
    "# PACF\n",
    "pacf=plot_pacf(df['总有功功率（kw）'])\n",
    "plt.title(\"总有功功率（kw）的偏自相关图\")\n",
    "plt.savefig('PACF.png')\n",
    "plt.show()"
   ]
  },
  {
   "cell_type": "code",
   "execution_count": null,
   "metadata": {},
   "outputs": [],
   "source": [
    "from sklearn.model_selection import TimeSeriesSplit\n",
    "\n",
    "N_SPLITS = 3\n",
    "\n",
    "X = df['date']\n",
    "y = df['总有功功率（kw）']\n",
    "\n",
    "folds = TimeSeriesSplit(n_splits=N_SPLITS)"
   ]
  },
  {
   "cell_type": "code",
   "execution_count": null,
   "metadata": {},
   "outputs": [],
   "source": [
    "f, ax = plt.subplots(nrows=N_SPLITS, ncols=2, figsize=(16, 9))\n",
    "\n",
    "for i, (train_index, valid_index) in enumerate(folds.split(X)):\n",
    "    X_train, X_valid = X[train_index], X[valid_index]\n",
    "    y_train, y_valid = y[train_index], y[valid_index]\n",
    "\n",
    "    sns.lineplot(\n",
    "        x=X_train, \n",
    "        y=y_train, \n",
    "        ax=ax[i,0], \n",
    "        color='dodgerblue', \n",
    "        label='train'\n",
    "    )\n",
    "    sns.lineplot(\n",
    "        x=X_train[len(X_train) - len(X_valid):(len(X_train) - len(X_valid) + len(X_valid))], \n",
    "        y=y_train[len(X_train) - len(X_valid):(len(X_train) - len(X_valid) + len(X_valid))], \n",
    "        ax=ax[i,1], \n",
    "        color='dodgerblue', \n",
    "        label='train'\n",
    "    )\n",
    "\n",
    "    for j in range(2):\n",
    "        sns.lineplot(x= X_valid, y= y_valid, ax=ax[i, j], color='darkorange', label='validation')\n",
    "    ax[i, 0].set_title(f\"Rolling Window with Adjusting Training Size (Split {i+1})\", fontsize=10)\n",
    "    ax[i, 1].set_title(f\"Rolling Window with Constant Training Size (Split {i+1})\", fontsize=10)\n",
    "\n",
    "for i in range(N_SPLITS):\n",
    "    ax[i, 0].set_xlim([date(2018, 1, 1), date(2018, 1, 14)])\n",
    "    ax[i, 1].set_xlim([date(2018, 1, 1), date(2018, 6, 30)])\n",
    "plt.savefig('交叉验证.png')\n",
    "plt.tight_layout()\n",
    "plt.show()"
   ]
  },
  {
   "cell_type": "markdown",
   "metadata": {},
   "source": [
    "# 单变量时间序列模型"
   ]
  },
  {
   "cell_type": "code",
   "execution_count": null,
   "metadata": {},
   "outputs": [],
   "source": [
    "train_size = int(0.85 * len(df))\n",
    "test_size = len(df) - train_size\n",
    "# df = df.fillna(0)\n",
    "univariate_df = df[['date', '总有功功率（kw）']].copy()\n",
    "univariate_df.columns = ['ds', 'y']\n",
    "\n",
    "train = univariate_df.iloc[:train_size, :]\n",
    "\n",
    "x_train, y_train = pd.DataFrame(univariate_df.iloc[:train_size, 0]), pd.DataFrame(univariate_df.iloc[:train_size, 1])\n",
    "x_valid, y_valid = pd.DataFrame(univariate_df.iloc[train_size:, 0]), pd.DataFrame(univariate_df.iloc[train_size:, 1])\n",
    "\n",
    "print(len(train), len(x_valid))"
   ]
  },
  {
   "cell_type": "markdown",
   "metadata": {},
   "source": [
    "# ARIMA"
   ]
  },
  {
   "cell_type": "code",
   "execution_count": null,
   "metadata": {},
   "outputs": [],
   "source": [
    "trend_evaluate = sm.tsa.arma_order_select_ic(y_train, ic=['aic', 'bic'], trend='nc')\n",
    "print('train AIC', trend_evaluate.aic_min_order)\n",
    "print('train BIC', trend_evaluate.bic_min_order)"
   ]
  },
  {
   "cell_type": "code",
   "execution_count": null,
   "metadata": {},
   "outputs": [],
   "source": [
    "from statsmodels.tsa.arima.model import ARIMA\n",
    "import warnings\n",
    "\n",
    "warnings.filterwarnings('ignore')\n",
    "\n",
    "# Fit model\n",
    "model = ARIMA(y_train, order=(4,0,0))\n",
    "model_fit = model.fit()\n",
    "y_pred = model_fit.forecast(len(x_valid))\n",
    "\n",
    "# Calcuate metrics\n",
    "score_mae = mean_absolute_error(y_valid, y_pred) #[19296 rows x 1 columns]\n",
    "score_rmse = math.sqrt(mean_squared_error(y_valid, y_pred))\n",
    "\n",
    "print(Fore.GREEN + 'MAE: {}'.format(score_mae))\n",
    "print(Fore.GREEN + 'RMSE: {}'.format(score_rmse))\n",
    "# MAE: 26008.946939568425\n",
    "# RMSE: 34286.492961318734"
   ]
  },
  {
   "cell_type": "code",
   "execution_count": null,
   "metadata": {},
   "outputs": [],
   "source": [
    "model = ARIMA(y_train, order=(4,0,0))\n",
    "arima_res=model.fit()\n",
    "arima_res.summary()"
   ]
  },
  {
   "cell_type": "code",
   "execution_count": null,
   "metadata": {},
   "outputs": [],
   "source": [
    "# f, ax = plt.subplots(1)\n",
    "# f.set_figheight(6)\n",
    "# f.set_figwidth(15)\n",
    "\n",
    "# model_fit.plot_predict(1, 1300, ax=ax)\n",
    "# sns.lineplot(x=x_valid.index, y=y_valid['y'], ax=ax, color='orange', label='Ground truth') #navajowhite\n",
    "\n",
    "# ax.set_title(f'Prediction \\n MAE: {score_mae:.2f}, RMSE: {score_rmse:.2f}', fontsize=14)\n",
    "# # ax.set_xlabel(xlabel='Date', fontsize=14)\n",
    "# ax.set_ylabel(ylabel='总有功功率（kw）', fontsize=14)\n",
    "\n",
    "# ax.set_ylim(100000, 350392)\n",
    "# plt.show()"
   ]
  },
  {
   "cell_type": "code",
   "execution_count": null,
   "metadata": {},
   "outputs": [],
   "source": [
    "f, ax = plt.subplots(1)\n",
    "f.set_figheight(4)\n",
    "f.set_figwidth(15)\n",
    "\n",
    "sns.lineplot(x=x_valid.index, y=y_pred, ax=ax, color='blue', label='predicted') #navajowhite\n",
    "sns.lineplot(x=x_valid.index, y=y_valid['y'], ax=ax, color='orange', label='Ground truth') #navajowhite\n",
    "\n",
    "ax.set_xlabel(xlabel='Date', fontsize=14)\n",
    "ax.set_ylabel(ylabel='总有功功率（kw）', fontsize=14)\n",
    "\n",
    "plt.show()"
   ]
  },
  {
   "cell_type": "markdown",
   "metadata": {},
   "source": [
    "# LSTM"
   ]
  },
  {
   "cell_type": "code",
   "execution_count": null,
   "metadata": {},
   "outputs": [],
   "source": [
    "from sklearn.preprocessing import MinMaxScaler\n",
    "\n",
    "data = univariate_df.filter(['y'])\n",
    "#Convert the dataframe to a numpy array\n",
    "dataset = data.values\n",
    "\n",
    "scaler = MinMaxScaler(feature_range=(-1, 0))\n",
    "\n",
    "scaled_data = scaler.fit_transform(dataset)"
   ]
  },
  {
   "cell_type": "code",
   "execution_count": null,
   "metadata": {},
   "outputs": [],
   "source": [
    "# Defines the rolling window\n",
    "look_back = 52\n",
    "# Split into train and test sets\n",
    "train, test = scaled_data[:train_size-look_back,:], scaled_data[train_size-look_back:,:]\n",
    "\n",
    "def create_dataset(dataset, look_back=1):\n",
    "    X, Y = [], []\n",
    "    for i in range(look_back, len(dataset)):\n",
    "        a = dataset[i-look_back:i, 0]\n",
    "        X.append(a)\n",
    "        Y.append(dataset[i, 0])\n",
    "    return np.array(X), np.array(Y)\n",
    "\n",
    "x_train, y_train = create_dataset(train, look_back)\n",
    "x_test, y_test = create_dataset(test, look_back)\n",
    "\n",
    "# reshape input to be [samples, time steps, features]\n",
    "x_train = np.reshape(x_train, (x_train.shape[0], 1, x_train.shape[1]))\n",
    "x_test = np.reshape(x_test, (x_test.shape[0], 1, x_test.shape[1]))\n",
    "\n",
    "print(len(x_train), len(x_test))"
   ]
  },
  {
   "cell_type": "code",
   "execution_count": null,
   "metadata": {},
   "outputs": [],
   "source": [
    "from tensorflow.keras.models import Sequential\n",
    "from tensorflow.keras.layers import Dense, LSTM\n",
    "\n",
    "#Build the LSTM model\n",
    "model = Sequential()\n",
    "model.add(LSTM(128, return_sequences=True, input_shape=(x_train.shape[1], x_train.shape[2])))\n",
    "model.add(LSTM(64, return_sequences=False))\n",
    "model.add(Dense(25))\n",
    "model.add(Dense(1))\n",
    "\n",
    "# Compile the model\n",
    "model.compile(optimizer='adam', loss='mean_squared_error')\n",
    "\n",
    "#Train the model\n",
    "model.fit(x_train, y_train, batch_size=16, epochs=10, validation_data=(x_test, y_test))\n",
    "\n",
    "model.summary()\n"
   ]
  },
  {
   "cell_type": "code",
   "execution_count": null,
   "metadata": {},
   "outputs": [],
   "source": [
    "# Lets predict with the model\n",
    "train_predict = model.predict(x_train)\n",
    "test_predict = model.predict(x_test)\n",
    "\n",
    "# invert predictions\n",
    "train_predict = scaler.inverse_transform(train_predict)\n",
    "y_train = scaler.inverse_transform([y_train])\n",
    "\n",
    "test_predict = scaler.inverse_transform(test_predict)\n",
    "y_test = scaler.inverse_transform([y_test])\n",
    "\n",
    "# Get the root mean squared error (RMSE) and MAE\n",
    "score_rmse = np.sqrt(mean_squared_error(y_test[0], test_predict[:,0]))\n",
    "score_mae = mean_absolute_error(y_test[0], test_predict[:,0])\n",
    "print(Fore.GREEN + 'RMSE: {}'.format(score_rmse))\n",
    "from sklearn.metrics import r2_score\n",
    "print('R2-score:',r2_score(y_test[0], test_predict[:,0]))"
   ]
  },
  {
   "cell_type": "code",
   "execution_count": null,
   "metadata": {},
   "outputs": [],
   "source": [
    "x_train_ticks = univariate_df.head(train_size)['ds']\n",
    "y_train = univariate_df.head(train_size)['y']\n",
    "x_test_ticks = univariate_df.tail(test_size)['ds']\n",
    "\n",
    "# Plot the forecast\n",
    "f, ax = plt.subplots(1)\n",
    "f.set_figheight(6)\n",
    "f.set_figwidth(15)\n",
    "\n",
    "sns.lineplot(x=x_train_ticks, y=y_train, ax=ax, label='Train Set') #navajowhite\n",
    "sns.lineplot(x=x_test_ticks, y=test_predict[:,0], ax=ax, color='green', label='Prediction') #navajowhite\n",
    "sns.lineplot(x=x_test_ticks, y=y_test[0], ax=ax, color='orange', label='Ground truth') #navajowhite\n",
    "\n",
    "ax.set_title(f'Prediction \\n MAE: {score_mae:.2f}, RMSE: {score_rmse:.2f}', fontsize=14)\n",
    "ax.set_xlabel(xlabel='Date', fontsize=14)\n",
    "ax.set_ylabel(ylabel='总有功功率（kw）', fontsize=14)\n",
    "\n",
    "plt.show()"
   ]
  },
  {
   "cell_type": "markdown",
   "metadata": {},
   "source": [
    "# prophet"
   ]
  },
  {
   "cell_type": "code",
   "execution_count": null,
   "metadata": {},
   "outputs": [],
   "source": [
    "from sklearn.metrics import mean_absolute_error, mean_squared_error\n",
    "import math\n",
    "from fbprophet import Prophet"
   ]
  },
  {
   "cell_type": "code",
   "execution_count": null,
   "metadata": {},
   "outputs": [],
   "source": [
    "model = Prophet()\n",
    "model.fit(x_train)"
   ]
  },
  {
   "cell_type": "code",
   "execution_count": null,
   "metadata": {},
   "outputs": [],
   "source": [
    "# x_valid = model.make_future_dataframe(periods=test_size, freq='w')\n",
    "# Predict on valid set\n",
    "y_pred = model.predict(x_valid)\n",
    "\n",
    "# Calcuate metrics\n",
    "score_mae = mean_absolute_error(y_valid, y_pred.tail(test_size)['yhat'])\n",
    "score_rmse = math.sqrt(mean_squared_error(y_valid, y_pred.tail(test_size)['yhat']))\n",
    "\n",
    "print(Fore.GREEN + 'RMSE: {}'.format(score_rmse))"
   ]
  },
  {
   "cell_type": "code",
   "execution_count": null,
   "metadata": {},
   "outputs": [],
   "source": [
    "# Plot the forecast\n",
    "f, ax = plt.subplots(1)\n",
    "f.set_figheight(6)\n",
    "f.set_figwidth(15)\n",
    "\n",
    "model.plot(y_pred, ax=ax)\n",
    "sns.lineplot(x=x_valid['ds'], y=y_valid['y'], ax=ax, color='orange', label='Ground truth') #navajowhite\n",
    "\n",
    "ax.set_title(f'Prediction \\n MAE: {score_mae:.2f}, RMSE: {score_rmse:.2f}', fontsize=14)\n",
    "ax.set_xlabel(xlabel='Date', fontsize=14)\n",
    "ax.set_ylabel(ylabel='总有功功率（kw）', fontsize=14)\n",
    "\n",
    "plt.show()"
   ]
  },
  {
   "cell_type": "markdown",
   "metadata": {},
   "source": [
    "# 自动时间序列(AutoARIMA)"
   ]
  },
  {
   "cell_type": "code",
   "execution_count": null,
   "metadata": {},
   "outputs": [],
   "source": [
    "from statsmodels.tsa.arima_model import ARIMA\n",
    "import pmdarima as pm"
   ]
  },
  {
   "cell_type": "code",
   "execution_count": null,
   "metadata": {},
   "outputs": [],
   "source": [
    "model = pm.auto_arima(y_train, start_p=1, start_q=1,\n",
    "                      test='adf',       # use adftest to find optimal 'd'\n",
    "                      max_p=3, max_q=3, # maximum p and q\n",
    "                      m=1,              # frequency of series\n",
    "                      d=None,           # let model determine 'd'\n",
    "                      seasonal=False,   # No Seasonality\n",
    "                      start_P=0, \n",
    "                      D=0, \n",
    "                      trace=True,\n",
    "                      error_action='ignore',  \n",
    "                      suppress_warnings=True, \n",
    "                      stepwise=True)\n",
    "\n",
    "print(model.summary())"
   ]
  },
  {
   "cell_type": "code",
   "execution_count": null,
   "metadata": {},
   "outputs": [],
   "source": [
    "y_pred = model.predict(len(x_valid))"
   ]
  },
  {
   "cell_type": "code",
   "execution_count": null,
   "metadata": {},
   "outputs": [],
   "source": [
    "from sklearn.metrics import r2_score\n",
    "print('R2-score:',r2_score(y_valid, y_pred))"
   ]
  },
  {
   "cell_type": "code",
   "execution_count": null,
   "metadata": {},
   "outputs": [],
   "source": [
    "model.plot_diagnostics(figsize=(16,8))\n",
    "plt.show()"
   ]
  },
  {
   "cell_type": "markdown",
   "metadata": {},
   "source": [
    "# 多元时序预测"
   ]
  },
  {
   "cell_type": "code",
   "execution_count": null,
   "metadata": {},
   "outputs": [],
   "source": [
    "feature_columns = ['最高温度', '最低温度', '白天风力风向', '夜晚风力风向', '天气1', '天气2']\n",
    "target_column = ['总有功功率（kw）']\n",
    "\n",
    "train_size = int(0.85 * len(df))\n",
    "\n",
    "multivariate_df = df[['date'] + target_column + feature_columns].copy()\n",
    "multivariate_df.columns = ['ds', 'y'] + feature_columns\n",
    "\n",
    "train = multivariate_df.iloc[:train_size, :]\n",
    "x_train, y_train = pd.DataFrame(multivariate_df.iloc[:train_size, [0,2,3,4,5,6,7]]), pd.DataFrame(multivariate_df.iloc[:train_size, 1])\n",
    "x_valid, y_valid = pd.DataFrame(multivariate_df.iloc[train_size:, [0,2,3,4,5,6,7]]), pd.DataFrame(multivariate_df.iloc[train_size:, 1])\n",
    "\n",
    "train.head()"
   ]
  },
  {
   "cell_type": "code",
   "execution_count": null,
   "metadata": {},
   "outputs": [],
   "source": [
    "train  =multivariate_df.iloc[:train_size, :]\n",
    "train\n"
   ]
  },
  {
   "cell_type": "markdown",
   "metadata": {},
   "source": [
    "# 多元prophet"
   ]
  },
  {
   "cell_type": "code",
   "execution_count": null,
   "metadata": {},
   "outputs": [],
   "source": [
    "from fbprophet import Prophet\n",
    "\n",
    "\n",
    "# Train the model\n",
    "model = Prophet()\n",
    "# model.add_regressor('最高温度')\n",
    "# model.add_regressor('最低温度')\n",
    "# model.add_regressor('白天风力风向')\n",
    "# model.add_regressor('夜晚风力风向')\n",
    "# model.add_regressor('天气1')\n",
    "# model.add_regressor('天气2')\n",
    "# # Fit the model with train set\n",
    "model.fit(train)\n",
    "\n",
    "# Predict on valid set\n",
    "y_pred = model.predict(x_valid)\n",
    "\n",
    "# Calcuate metrics\n",
    "score_mae = mean_absolute_error(y_valid, y_pred['yhat'])\n",
    "score_rmse = math.sqrt(mean_squared_error(y_valid, y_pred['yhat']))\n",
    "\n",
    "print(Fore.GREEN + 'RMSE: {}'.format(score_rmse))\n"
   ]
  },
  {
   "cell_type": "code",
   "execution_count": null,
   "metadata": {},
   "outputs": [],
   "source": [
    "from sklearn.metrics import r2_score\n",
    "print('R2-score:',r2_score(y_valid, y_pred['yhat']))"
   ]
  },
  {
   "cell_type": "code",
   "execution_count": null,
   "metadata": {},
   "outputs": [],
   "source": [
    "# Plot the forecast\n",
    "f, ax = plt.subplots(1)\n",
    "f.set_figheight(6)\n",
    "f.set_figwidth(15)\n",
    "\n",
    "model.plot(y_pred, ax=ax)\n",
    "sns.lineplot(x=x_valid['ds'], y=y_valid['y'], ax=ax, color='orange', label='Ground truth') #navajowhite\n",
    "\n",
    "ax.set_title(f'Prediction \\n MAE: {score_mae:.2f}, RMSE: {score_rmse:.2f}', fontsize=14)\n",
    "ax.set_xlabel(xlabel='Date', fontsize=14)\n",
    "ax.set_ylabel(ylabel='总有功功率（kw）', fontsize=14)\n",
    "\n",
    "plt.show()"
   ]
  },
  {
   "cell_type": "markdown",
   "metadata": {},
   "source": [
    "## LGBMRegressor建模"
   ]
  },
  {
   "cell_type": "code",
   "execution_count": null,
   "metadata": {},
   "outputs": [],
   "source": [
    "model_lgb = lgb.LGBMRegressor(\n",
    "                learning_rate=0.01,\n",
    "                max_depth=-1,\n",
    "                n_estimators=1000,\n",
    "                    boosting_type='gbdt',\n",
    "                    random_state=2022,\n",
    "                    objective='regression',\n",
    "                    num_leaves = '32',\n",
    "                    verbose=-1)\n",
    "lgb_model = model_lgb.fit(x,y_train)     #建模\n",
    "pred_val_y  = lgb_model.predict(x_val)   #预测"
   ]
  }
 ],
 "metadata": {
  "interpreter": {
   "hash": "2fc9f0689f2f32664301ce51aaed3853cc1802bb7b4d4a74b41993575fbadbc0"
  },
  "kernelspec": {
   "display_name": "Python 3",
   "language": "python",
   "name": "python3"
  },
  "language_info": {
   "codemirror_mode": {
    "name": "ipython",
    "version": 3
   },
   "file_extension": ".py",
   "mimetype": "text/x-python",
   "name": "python",
   "nbconvert_exporter": "python",
   "pygments_lexer": "ipython3",
   "version": "3.7.6"
  },
  "vp": {
   "base_numbering": 1,
   "nav_menu": {},
   "number_sections": true,
   "sideBar": true,
   "title_cell": "VisualPython",
   "title_sidebar": "VisualPython",
   "vpPosition": {
    "height": "calc(100% - 180px)",
    "right": "10px",
    "top": "110px",
    "width": "50%"
   },
   "vp_cell": false,
   "vp_section_display": true,
   "vp_window_display": false
  }
 },
 "nbformat": 4,
 "nbformat_minor": 4
}
