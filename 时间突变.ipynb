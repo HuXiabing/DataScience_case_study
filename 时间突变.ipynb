{
 "cells": [
  {
   "cell_type": "code",
   "execution_count": null,
   "metadata": {},
   "outputs": [],
   "source": [
    "import pandas as pd\n",
    "from pathlib import Path\n",
    "import matplotlib.pyplot as plt\n",
    "import plotly\n",
    "import plotly.graph_objects as go\n",
    "import plotly.io as pio\n",
    "from plotly.offline import download_plotlyjs, init_notebook_mode, plot, iplot\n",
    "from chart_studio import plotly as py\n",
    "import matplotlib.pyplot as plt\n",
    "import plotly.graph_objs as go\n",
    "init_notebook_mode(connected=True)\n",
    "import warnings\n",
    "warnings.filterwarnings('ignore')\n",
    "from pylab import mpl \n",
    "mpl.rcParams['font.sans-serif'] = ['FangSong'] # 指定默认字体 \n",
    "mpl.rcParams['axes.unicode_minus'] = False # 解决保存图像是负号'-'显示为方块的问题"
   ]
  },
  {
   "cell_type": "markdown",
   "metadata": {},
   "source": [
    "# define plot function"
   ]
  },
  {
   "cell_type": "code",
   "execution_count": null,
   "metadata": {},
   "outputs": [],
   "source": [
    "def plot_anomaly(ts,anomaly_pred = None,anomaly_true=None,file_name = 'file'):\n",
    "    fig = go.Figure()\n",
    "    yhat = go.Scatter(\n",
    "    x = ts.index,\n",
    "    y = ts,\n",
    "    mode = 'lines',  name = ts.name)\n",
    "    fig.add_trace(yhat)\n",
    "    if  anomaly_pred is not None:\n",
    "        status = go.Scatter(\n",
    "        x = anomaly_pred.index,\n",
    "        y = ts.loc[anomaly_pred.index],\n",
    "        mode = 'markers',  name = anomaly_pred.name,marker= {'color':'red','size':10,'symbol':'star','line_width':0})\n",
    "        fig.add_trace(status)\n",
    "    if  anomaly_true is not None:\n",
    "        status = go.Scatter(\n",
    "        x = anomaly_true.index,\n",
    "        y = ts.loc[anomaly_true.index],\n",
    "        mode = 'markers',  name = anomaly_true.name,marker= {'color':'yellow','size':10,'symbol':'star-open','line_width':2})\n",
    "        fig.add_trace(status)   \n",
    "    fig.show()\n",
    "    \n",
    "def plot_anomaly_window(ts,anomaly_pred = None,file_name = 'file',window='1h'):\n",
    "    fig = go.Figure()\n",
    "    yhat = go.Scatter(\n",
    "    x = ts.index,\n",
    "    y = ts,\n",
    "    mode = 'lines',  name = ts.name)\n",
    "    fig.add_trace(yhat)\n",
    "    if  anomaly_pred is not None:\n",
    "        for i in anomaly_pred.index:\n",
    "            fig.add_vrect(x0=i - pd.Timedelta(window),x1= i,line_width=0, fillcolor=\"red\", opacity=0.2) \n",
    "    fig.show()"
   ]
  },
  {
   "cell_type": "code",
   "execution_count": null,
   "metadata": {},
   "outputs": [],
   "source": [
    "import pandas as pd \n",
    "df = pd.read_csv(r\"附件2-行业日负荷数据.csv\")"
   ]
  },
  {
   "cell_type": "code",
   "execution_count": null,
   "metadata": {},
   "outputs": [],
   "source": [
    "df[df['行业类型']=='非普工业']"
   ]
  },
  {
   "cell_type": "code",
   "execution_count": null,
   "metadata": {},
   "outputs": [],
   "source": [
    "metrics_df=pd.pivot_table(df,values='有功功率最大值（kw）',index='数据时间',columns='行业类型')\n",
    "metrics_df"
   ]
  },
  {
   "cell_type": "code",
   "execution_count": null,
   "metadata": {},
   "outputs": [],
   "source": [
    "metrics_df.reset_index(inplace=True)\n",
    "metrics_df.fillna(0,inplace=True)\n",
    "metrics_df.head()\n",
    "metrics_df = metrics_df.rename(columns={'数据时间':'Time'})"
   ]
  },
  {
   "cell_type": "code",
   "execution_count": null,
   "metadata": {},
   "outputs": [],
   "source": [
    "df = metrics_df\n",
    "df['Time']= pd.to_datetime(df['Time'])\n",
    "df.set_index('Time',inplace=True)\n",
    "col = df.columns[0]\n",
    "df.plot()"
   ]
  },
  {
   "cell_type": "code",
   "execution_count": null,
   "metadata": {},
   "outputs": [],
   "source": [
    "col = df.columns[1]\n",
    "min_t = df[col].quantile(0.03)\n",
    "max_t = df[col].quantile(0.97)\n",
    "df[col+'threshold'] = (df[col].clip(lower = min_t,upper=max_t) != df[col])\n",
    "plot_anomaly(df[col],anomaly_pred = df[df[col+'threshold']==True][col+'threshold'],anomaly_true=None,file_name = 'file')"
   ]
  },
  {
   "cell_type": "markdown",
   "metadata": {},
   "source": [
    "# 差分(变化量级)"
   ]
  },
  {
   "cell_type": "code",
   "execution_count": null,
   "metadata": {},
   "outputs": [],
   "source": [
    "df[col+'突变量级'] = df[col].diff()\n",
    "a = pd.DataFrame(df[df[col]>df[col].quantile(0.97)][[col,col+'突变量级']])\n",
    "b = pd.DataFrame(df[df[col]<df[col].quantile(0.03)][[col,col+'突变量级']])\n",
    "pd.concat([a,b]).to_csv('大工业用电突变.csv',index = 1)"
   ]
  },
  {
   "cell_type": "code",
   "execution_count": null,
   "metadata": {},
   "outputs": [],
   "source": [
    "col = df.columns[2]\n",
    "print(col)\n",
    "min_t = df[col].quantile(0.03)\n",
    "max_t = df[col].quantile(0.97)\n",
    "df[col+'threshold'] = (df[col].clip(lower = min_t,upper=max_t) != df[col])\n",
    "plot_anomaly(df[col],anomaly_pred = df[df[col+'threshold']==True][col+'threshold'],anomaly_true=None,file_name = 'file')\n",
    "df[col+'突变量级'] = df[col].diff()\n",
    "a = pd.DataFrame(df[df[col]>df[col].quantile(0.97)][[col,col+'突变量级']])\n",
    "b = pd.DataFrame(df[df[col]<df[col].quantile(0.03)][[col,col+'突变量级']])\n",
    "pd.concat([a,b]).to_csv(col+'突变.csv',index=1)"
   ]
  },
  {
   "cell_type": "code",
   "execution_count": null,
   "metadata": {},
   "outputs": [],
   "source": [
    "col = df.columns[3]\n",
    "print(col)\n",
    "min_t = df[col].quantile(0.03)\n",
    "max_t = df[col].quantile(0.97)\n",
    "df[col+'threshold'] = (df[col].clip(lower = min_t,upper=max_t) != df[col])\n",
    "plot_anomaly(df[col],anomaly_pred = df[df[col+'threshold']==True][col+'threshold'],anomaly_true=None,file_name = 'file')\n",
    "df[col+'突变量级'] = df[col].diff()\n",
    "a = pd.DataFrame(df[df[col]>df[col].quantile(0.97)][[col,col+'突变量级']])\n",
    "b = pd.DataFrame(df[df[col]<df[col].quantile(0.03)][[col,col+'突变量级']])\n",
    "pd.concat([a,b]).to_csv(col+'突变.csv',index=1)"
   ]
  },
  {
   "cell_type": "code",
   "execution_count": null,
   "metadata": {},
   "outputs": [],
   "source": [
    "col = df.columns[0]\n",
    "print(col)\n",
    "min_t = df[col].quantile(0.03)\n",
    "max_t = df[col].quantile(0.97)\n",
    "df[col+'threshold'] = (df[col].clip(lower = min_t,upper=max_t) != df[col])\n",
    "plot_anomaly(df[col],anomaly_pred = df[df[col+'threshold']==True][col+'threshold'],anomaly_true=None,file_name = 'file')\n",
    "df[col+'突变量级'] = df[col].diff()\n",
    "a = pd.DataFrame(df[df[col]>df[col].quantile(0.97)][[col,col+'突变量级']])\n",
    "b = pd.DataFrame(df[df[col]<df[col].quantile(0.03)][[col,col+'突变量级']])\n",
    "pd.concat([a,b]).to_csv(col+'突变.csv',index=1)"
   ]
  }
 ],
 "metadata": {
  "kernelspec": {
   "display_name": "Python 3",
   "language": "python",
   "name": "python3"
  },
  "language_info": {
   "codemirror_mode": {
    "name": "ipython",
    "version": 3
   },
   "file_extension": ".py",
   "mimetype": "text/x-python",
   "name": "python",
   "nbconvert_exporter": "python",
   "pygments_lexer": "ipython3",
   "version": "3.7.6"
  },
  "vp": {
   "base_numbering": 1,
   "nav_menu": {},
   "number_sections": true,
   "sideBar": true,
   "title_cell": "VisualPython",
   "title_sidebar": "VisualPython",
   "vpPosition": {
    "height": "calc(100% - 180px)",
    "right": "10px",
    "top": "110px",
    "width": "50%"
   },
   "vp_cell": false,
   "vp_section_display": true,
   "vp_window_display": false
  }
 },
 "nbformat": 4,
 "nbformat_minor": 5
}
