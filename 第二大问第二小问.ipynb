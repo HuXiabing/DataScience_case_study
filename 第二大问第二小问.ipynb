{
 "cells": [
  {
   "cell_type": "code",
   "execution_count": null,
   "metadata": {},
   "outputs": [],
   "source": [
    "from sklearn import metrics\n",
    "from statsmodels.tsa.arima.model import ARIMA\n",
    "import statsmodels.api as sm\n",
    "def mape(y_true, y_pred):\n",
    "    return np.mean(np.abs((y_pred - y_true) / y_true))"
   ]
  },
  {
   "cell_type": "code",
   "execution_count": null,
   "metadata": {},
   "outputs": [],
   "source": [
    "import numpy as np\n",
    "import pandas as pd\n",
    "\n",
    "import seaborn as sns \n",
    "import matplotlib.pyplot as plt \n",
    "from colorama import Fore\n",
    "\n",
    "from sklearn.metrics import mean_absolute_error, mean_squared_error\n",
    "import math\n",
    "from sklearn.preprocessing import LabelEncoder\n",
    "import warnings # Supress warnings \n",
    "warnings.filterwarnings('ignore')\n",
    "plt.rcParams['font.sans-serif'] = ['SimHei']  # 用来正常显示中文标签\n",
    "plt.rcParams['axes.unicode_minus'] = False  # 用来正常显示负号\n",
    "np.random.seed(7)"
   ]
  },
  {
   "cell_type": "code",
   "execution_count": null,
   "metadata": {},
   "outputs": [],
   "source": [
    "df = pd.read_csv(r\"附件2-行业日负荷数据.csv\")\n",
    "metrics_df=pd.pivot_table(df,values='有功功率最大值（kw）',index='数据时间',columns='行业类型')\n",
    "metrics_df.head()"
   ]
  },
  {
   "cell_type": "code",
   "execution_count": null,
   "metadata": {},
   "outputs": [],
   "source": [
    "metrics_df1=pd.pivot_table(df,values='有功功率最小值（kw）',index='数据时间',columns='行业类型')\n",
    "metrics_df1.head()"
   ]
  },
  {
   "cell_type": "code",
   "execution_count": null,
   "metadata": {},
   "outputs": [],
   "source": [
    "metrics_df['数据时间'] = metrics_df.index\n",
    "metrics_df1['数据时间'] = metrics_df1.index"
   ]
  },
  {
   "cell_type": "code",
   "execution_count": null,
   "metadata": {},
   "outputs": [],
   "source": [
    "metrics_df= metrics_df.rename(columns={'数据时间':'date'})\n",
    "metrics_df1= metrics_df1.rename(columns={'数据时间':'date'})"
   ]
  },
  {
   "cell_type": "code",
   "execution_count": null,
   "metadata": {},
   "outputs": [],
   "source": [
    "metrics_df = pd.DataFrame(metrics_df.reset_index())\n",
    "metrics_df1 = pd.DataFrame(metrics_df1.reset_index())"
   ]
  },
  {
   "cell_type": "code",
   "execution_count": null,
   "metadata": {},
   "outputs": [],
   "source": [
    "#数据划分\n",
    "train_size = int(0.85 * len(metrics_df1))\n",
    "test_size = len(df) - train_size\n",
    "df = metrics_df.fillna(0)\n",
    "univariate_df = df[['date', '商业']].copy()\n",
    "univariate_df.columns = ['ds', 'y']\n",
    "train = univariate_df.iloc[:train_size, :]\n",
    "x_train, y_train = pd.DataFrame(univariate_df.iloc[:train_size, 0]), pd.DataFrame(univariate_df.iloc[:train_size, 1])\n",
    "x_valid, y_valid = pd.DataFrame(univariate_df.iloc[train_size:, 0]), pd.DataFrame(univariate_df.iloc[train_size:, 1])\n",
    "print(len(train), len(x_valid))"
   ]
  },
  {
   "cell_type": "code",
   "execution_count": null,
   "metadata": {},
   "outputs": [],
   "source": [
    "# 商业行业最大有功功率\n",
    "trend_evaluate = sm.tsa.arma_order_select_ic(y_train, ic=['aic', 'bic'], trend='c')\n",
    "print('train AIC', trend_evaluate.aic_min_order)\n",
    "print('train BIC', trend_evaluate.bic_min_order)"
   ]
  },
  {
   "cell_type": "code",
   "execution_count": null,
   "metadata": {},
   "outputs": [],
   "source": [
    "# Fit model\n",
    "model = ARIMA(y_train, order=( 2,0,1)) #自己调整参数\n",
    "model_fit = model.fit()\n",
    "# Pediction with ARIMA\n",
    "y_pred= model_fit.forecast(len(y_valid))\n",
    "# Calcuate metrics\n",
    "score_mae = mean_absolute_error(y_valid, y_pred)\n",
    "score_rmse = math.sqrt(mean_squared_error(y_valid, y_pred))\n",
    "\n",
    "y_true = np.array(y_valid)\n",
    "y_pred = np.array(y_pred)\n",
    "print('MSE:',metrics.mean_squared_error(y_true, y_pred))\n",
    "print('RMSE:',np.sqrt(metrics.mean_squared_error(y_true, y_pred)))\n",
    "print('MAE:',metrics.mean_absolute_error(y_true, y_pred)) \n",
    "print('MAPE:',mape(y_true, y_pred))"
   ]
  },
  {
   "cell_type": "code",
   "execution_count": null,
   "metadata": {},
   "outputs": [],
   "source": [
    "# Fit model\n",
    "model = ARIMA(y_train, order=( 3,0,2)) #自己调整参数\n",
    "model_fit = model.fit()\n",
    "# Pediction with ARIMA\n",
    "y_pred= model_fit.forecast(len(y_valid))\n",
    "# Calcuate metrics\n",
    "score_mae = mean_absolute_error(y_valid, y_pred)\n",
    "score_rmse = math.sqrt(mean_squared_error(y_valid, y_pred))\n",
    "\n",
    "y_true = np.array(y_valid)\n",
    "y_pred = np.array(y_pred)\n",
    "print('MSE:',metrics.mean_squared_error(y_true, y_pred))\n",
    "print('RMSE:',np.sqrt(metrics.mean_squared_error(y_true, y_pred)))\n",
    "print('MAE:',metrics.mean_absolute_error(y_true, y_pred)) \n",
    "print('MAPE:',mape(y_true, y_pred))"
   ]
  },
  {
   "cell_type": "code",
   "execution_count": null,
   "metadata": {},
   "outputs": [],
   "source": [
    "#预测结果\n",
    "y = pd.read_excel('未来三个月.xls')#自己生成的\n",
    "print(len(y))\n",
    "pred =  model_fit.forecast(len(y))#预测\n",
    "pred = pd.DataFrame(pred)\n",
    "pred.index = y.index\n",
    "y['数据时间'] = y['数据时间'].astype(str)\n",
    "y['商业行业未来最大总有功功率(KM)'] = pred"
   ]
  },
  {
   "cell_type": "code",
   "execution_count": null,
   "metadata": {},
   "outputs": [],
   "source": [
    "# 商业最小总总有功功率\n",
    "df = metrics_df1.fillna(0)\n",
    "univariate_df = df[['date', '商业']].copy()\n",
    "univariate_df.columns = ['ds', 'y']\n",
    "\n",
    "train = univariate_df.iloc[:train_size, :]\n",
    "\n",
    "x_train, y_train = pd.DataFrame(univariate_df.iloc[:train_size, 0]), pd.DataFrame(univariate_df.iloc[:train_size, 1])\n",
    "x_valid, y_valid = pd.DataFrame(univariate_df.iloc[train_size:, 0]), pd.DataFrame(univariate_df.iloc[train_size:, 1])\n",
    "\n",
    "print(len(train), len(x_valid))"
   ]
  },
  {
   "cell_type": "code",
   "execution_count": null,
   "metadata": {},
   "outputs": [],
   "source": [
    "trend_evaluate = sm.tsa.arma_order_select_ic(y_train, ic=['aic', 'bic'], trend='c')\n",
    "print('train AIC', trend_evaluate.aic_min_order)\n",
    "print('train BIC', trend_evaluate.bic_min_order)"
   ]
  },
  {
   "cell_type": "code",
   "execution_count": null,
   "metadata": {},
   "outputs": [],
   "source": [
    "# Fit model\n",
    "model = ARIMA(y_train, order=(2,0,1))\n",
    "model_fit = model.fit()\n",
    "\n",
    "# Pediction with ARIMA\n",
    "y_pred = model_fit.forecast(len(y_valid))\n",
    "# Calcuate metrics\n",
    "score_mae = mean_absolute_error(y_valid, y_pred)\n",
    "score_rmse = math.sqrt(mean_squared_error(y_valid, y_pred))\n",
    "y_true = np.array(y_valid)\n",
    "y_pred = np.array(y_pred)\n",
    "print('MSE:',metrics.mean_squared_error(y_true, y_pred))\n",
    "print('RMSE:',np.sqrt(metrics.mean_squared_error(y_true, y_pred)))\n",
    "print('MAE:',metrics.mean_absolute_error(y_true, y_pred)) \n",
    "print('MAPE:',mape(y_true, y_pred))\n",
    "pred =  model_fit.forecast(len(y))\n",
    "pred = pd.DataFrame(pred)\n",
    "pred.index = y.index\n",
    "y['数据时间'] = y['数据时间'].astype(str)\n",
    "y['商业最小总有功功率(KM)'] = pred"
   ]
  },
  {
   "cell_type": "code",
   "execution_count": null,
   "metadata": {},
   "outputs": [],
   "source": [
    "# 大工业用电行业最大和最小有功功率\n",
    "train_size = int(0.85 * len(df))\n",
    "test_size = len(df) - train_size\n",
    "df = metrics_df1.fillna(0)\n",
    "univariate_df = df[['date', '大工业用电']].copy()\n",
    "univariate_df.columns = ['ds', 'y']\n",
    "\n",
    "train = univariate_df.iloc[:train_size, :]\n",
    "\n",
    "x_train, y_train = pd.DataFrame(univariate_df.iloc[:train_size, 0]), pd.DataFrame(univariate_df.iloc[:train_size, 1])\n",
    "x_valid, y_valid = pd.DataFrame(univariate_df.iloc[train_size:, 0]), pd.DataFrame(univariate_df.iloc[train_size:, 1])\n",
    "\n",
    "print(len(train), len(x_valid))"
   ]
  },
  {
   "cell_type": "code",
   "execution_count": null,
   "metadata": {},
   "outputs": [],
   "source": [
    "trend_evaluate = sm.tsa.arma_order_select_ic(y_train, ic=['aic', 'bic'], trend='c')\n",
    "print('train AIC', trend_evaluate.aic_min_order)\n",
    "print('train BIC', trend_evaluate.bic_min_order)"
   ]
  },
  {
   "cell_type": "code",
   "execution_count": null,
   "metadata": {},
   "outputs": [],
   "source": [
    "# Fit model\n",
    "model = ARIMA(y_train, order=(2,0,1))\n",
    "model_fit = model.fit()\n",
    "\n",
    "# Pediction with ARIMA\n",
    "y_pred= model_fit.forecast(len(y_valid))\n",
    "# Calcuate metrics\n",
    "score_mae = mean_absolute_error(y_valid, y_pred)\n",
    "score_rmse = math.sqrt(mean_squared_error(y_valid, y_pred))\n",
    "y_true = np.array(y_valid)\n",
    "y_pred = np.array(y_pred)\n",
    "print('最大有功功率MSE:',metrics.mean_squared_error(y_true, y_pred))\n",
    "print('最大有功功率RMSE:',np.sqrt(metrics.mean_squared_error(y_true, y_pred)))\n",
    "print('最大有功功率MAE:',metrics.mean_absolute_error(y_true, y_pred)) \n",
    "print('最大有功功率MAPE:',mape(y_true, y_pred))\n",
    "pred =  model_fit.forecast(len(y))\n",
    "pred = pd.DataFrame(pred)\n",
    "pred.index = y.index\n",
    "y['数据时间'] = y['数据时间'].astype(str)\n",
    "y['大工业用电最大总有功功率(KM)'] = pred\n"
   ]
  },
  {
   "cell_type": "code",
   "execution_count": null,
   "metadata": {},
   "outputs": [],
   "source": [
    "train_size = int(0.85 * len(df))\n",
    "test_size = len(df) - train_size\n",
    "df = metrics_df1.fillna(0)\n",
    "univariate_df = df[['date', '大工业用电']].copy()\n",
    "univariate_df.columns = ['ds', 'y']\n",
    "\n",
    "train = univariate_df.iloc[:train_size, :]\n",
    "\n",
    "x_train, y_train = pd.DataFrame(univariate_df.iloc[:train_size, 0]), pd.DataFrame(univariate_df.iloc[:train_size, 1])\n",
    "x_valid, y_valid = pd.DataFrame(univariate_df.iloc[train_size:, 0]), pd.DataFrame(univariate_df.iloc[train_size:, 1])\n",
    "\n",
    "print(len(train), len(x_valid))"
   ]
  },
  {
   "cell_type": "code",
   "execution_count": null,
   "metadata": {},
   "outputs": [],
   "source": [
    "trend_evaluate = sm.tsa.arma_order_select_ic(y_train, ic=['aic', 'bic'], trend='c')\n",
    "print('train AIC', trend_evaluate.aic_min_order)\n",
    "print('train BIC', trend_evaluate.bic_min_order)"
   ]
  },
  {
   "cell_type": "code",
   "execution_count": null,
   "metadata": {},
   "outputs": [],
   "source": [
    "# Fit model\n",
    "model = ARIMA(y_train, order=(2,0,1))\n",
    "model_fit = model.fit()\n",
    "\n",
    "# Pediction with ARIMA\n",
    "y_pred= model_fit.forecast(len(y_valid))\n",
    "# Calcuate metrics\n",
    "score_mae = mean_absolute_error(y_valid, y_pred)\n",
    "score_rmse = math.sqrt(mean_squared_error(y_valid, y_pred))\n",
    "y_true = np.array(y_valid)\n",
    "y_pred = np.array(y_pred)\n",
    "print('最小有功功率MSE:',metrics.mean_squared_error(y_true, y_pred))\n",
    "print('最小有功功率RMSE:',np.sqrt(metrics.mean_squared_error(y_true, y_pred)))\n",
    "print('最小有功功率MAE:',metrics.mean_absolute_error(y_true, y_pred)) \n",
    "print('最小有功功率MAPE:',mape(y_true, y_pred))\n",
    "pred =  model_fit.forecast(len(y))\n",
    "pred = pd.DataFrame(pred)\n",
    "pred.index = y.index\n",
    "y['数据时间'] = y['数据时间'].astype(str)\n",
    "y['大工业用电最小总有功功率(KM)'] =pred"
   ]
  },
  {
   "cell_type": "code",
   "execution_count": null,
   "metadata": {},
   "outputs": [],
   "source": [
    "#普通工业行业\n",
    "train_size = int(0.85 * len(df))\n",
    "test_size = len(df) - train_size\n",
    "df = metrics_df.fillna(0)\n",
    "univariate_df = df[['date', '普通工业']].copy()\n",
    "univariate_df.columns = ['ds', 'y']\n",
    "\n",
    "train = univariate_df.iloc[:train_size, :]\n",
    "\n",
    "x_train, y_train = pd.DataFrame(univariate_df.iloc[:train_size, 0]), pd.DataFrame(univariate_df.iloc[:train_size, 1])\n",
    "x_valid, y_valid = pd.DataFrame(univariate_df.iloc[train_size:, 0]), pd.DataFrame(univariate_df.iloc[train_size:, 1])\n",
    "\n",
    "print(len(train), len(x_valid))"
   ]
  },
  {
   "cell_type": "code",
   "execution_count": null,
   "metadata": {},
   "outputs": [],
   "source": [
    "trend_evaluate = sm.tsa.arma_order_select_ic(y_train, ic=['aic', 'bic'], trend='c')\n",
    "print('train AIC', trend_evaluate.aic_min_order)\n",
    "print('train BIC', trend_evaluate.bic_min_order)"
   ]
  },
  {
   "cell_type": "code",
   "execution_count": null,
   "metadata": {},
   "outputs": [],
   "source": [
    "# Fit model\n",
    "model = ARIMA(y_train, order=(3,0,1))\n",
    "model_fit = model.fit()\n",
    "\n",
    "# Pediction with ARIMA\n",
    "y_pred = model_fit.forecast(len(y_valid))\n",
    "# Calcuate metrics\n",
    "score_mae = mean_absolute_error(y_valid, y_pred)\n",
    "score_rmse = math.sqrt(mean_squared_error(y_valid, y_pred))\n",
    "y_true = np.array(y_valid)\n",
    "y_pred = np.array(y_pred)\n",
    "print('最大有功功率MSE:',metrics.mean_squared_error(y_true, y_pred))\n",
    "print('最大有功功率RMSE:',np.sqrt(metrics.mean_squared_error(y_true, y_pred)))\n",
    "print('最大有功功率MAE:',metrics.mean_absolute_error(y_true, y_pred)) \n",
    "print('最大有功功率MAPE:',mape(y_true, y_pred))"
   ]
  },
  {
   "cell_type": "code",
   "execution_count": null,
   "metadata": {},
   "outputs": [],
   "source": [
    "# Fit model\n",
    "model = ARIMA(y_train, order=(4,0,2))\n",
    "model_fit = model.fit()\n",
    "\n",
    "# Pediction with ARIMA\n",
    "y_pred = model_fit.forecast(len(y_valid))\n",
    "# Calcuate metrics\n",
    "score_mae = mean_absolute_error(y_valid, y_pred)\n",
    "score_rmse = math.sqrt(mean_squared_error(y_valid, y_pred))\n",
    "y_true = np.array(y_valid)\n",
    "y_pred = np.array(y_pred)\n",
    "print('最大有功功率MSE:',metrics.mean_squared_error(y_true, y_pred))\n",
    "print('最大有功功率RMSE:',np.sqrt(metrics.mean_squared_error(y_true, y_pred)))\n",
    "print('最大有功功率MAE:',metrics.mean_absolute_error(y_true, y_pred)) \n",
    "print('最大有功功率MAPE:',mape(y_true, y_pred))"
   ]
  },
  {
   "cell_type": "code",
   "execution_count": null,
   "metadata": {},
   "outputs": [],
   "source": [
    "pred =  model_fit.forecast(len(y))\n",
    "pred = pd.DataFrame(pred)\n",
    "pred.index = y.index\n",
    "y['数据时间'] = y['数据时间'].astype(str)\n",
    "y['普通工业最大总有功功率(KM)'] =pred"
   ]
  },
  {
   "cell_type": "code",
   "execution_count": null,
   "metadata": {},
   "outputs": [],
   "source": [
    "train_size = int(0.85 * len(df))\n",
    "test_size = len(df) - train_size\n",
    "df = metrics_df1.fillna(0)\n",
    "univariate_df = df[['date', '普通工业']].copy()\n",
    "univariate_df.columns = ['ds', 'y']\n",
    "\n",
    "train = univariate_df.iloc[:train_size, :]\n",
    "\n",
    "x_train, y_train = pd.DataFrame(univariate_df.iloc[:train_size, 0]), pd.DataFrame(univariate_df.iloc[:train_size, 1])\n",
    "x_valid, y_valid = pd.DataFrame(univariate_df.iloc[train_size:, 0]), pd.DataFrame(univariate_df.iloc[train_size:, 1])\n",
    "\n",
    "print(len(train), len(x_valid))"
   ]
  },
  {
   "cell_type": "code",
   "execution_count": null,
   "metadata": {},
   "outputs": [],
   "source": [
    "trend_evaluate = sm.tsa.arma_order_select_ic(y_train, ic=['aic', 'bic'], trend='c')\n",
    "print('train AIC', trend_evaluate.aic_min_order)\n",
    "print('train BIC', trend_evaluate.bic_min_order)"
   ]
  },
  {
   "cell_type": "code",
   "execution_count": null,
   "metadata": {},
   "outputs": [],
   "source": [
    "# Fit model\n",
    "model = ARIMA(y_train, order=(2,0,1))\n",
    "model_fit = model.fit()\n",
    "\n",
    "# Pediction with ARIMA\n",
    "y_pred = model_fit.forecast(len(y_valid))\n",
    "# Calcuate metrics\n",
    "score_mae = mean_absolute_error(y_valid, y_pred)\n",
    "score_rmse = math.sqrt(mean_squared_error(y_valid, y_pred))\n",
    "y_true = np.array(y_valid)\n",
    "y_pred = np.array(y_pred)\n",
    "print('最小有功功率MSE:',metrics.mean_squared_error(y_true, y_pred))\n",
    "print('最小有功功率RMSE:',np.sqrt(metrics.mean_squared_error(y_true, y_pred)))\n",
    "print('最小有功功率MAE:',metrics.mean_absolute_error(y_true, y_pred)) \n",
    "print('最小有功功率MAPE:',mape(y_true, y_pred))"
   ]
  },
  {
   "cell_type": "code",
   "execution_count": null,
   "metadata": {},
   "outputs": [],
   "source": [
    "# Fit model\n",
    "model = ARIMA(y_train, order=(4,0,2))\n",
    "model_fit = model.fit()\n",
    "\n",
    "# Pediction with ARIMA\n",
    "y_pred = model_fit.forecast(len(y_valid))\n",
    "# Calcuate metrics\n",
    "score_mae = mean_absolute_error(y_valid, y_pred)\n",
    "score_rmse = math.sqrt(mean_squared_error(y_valid, y_pred))\n",
    "y_true = np.array(y_valid)\n",
    "y_pred = np.array(y_pred)\n",
    "print('最小有功功率MSE:',metrics.mean_squared_error(y_true, y_pred))\n",
    "print('最小有功功率RMSE:',np.sqrt(metrics.mean_squared_error(y_true, y_pred)))\n",
    "print('最小有功功率MAE:',metrics.mean_absolute_error(y_true, y_pred)) \n",
    "print('最小有功功率MAPE:',mape(y_true, y_pred))"
   ]
  },
  {
   "cell_type": "code",
   "execution_count": null,
   "metadata": {},
   "outputs": [],
   "source": [
    "pred =  model_fit.forecast(len(y))\n",
    "pred = pd.DataFrame(pred)\n",
    "pred.index = y.index\n",
    "y['数据时间'] = y['数据时间'].astype(str)\n",
    "y['普通工业最小总有功功率(KM)'] = pred"
   ]
  },
  {
   "cell_type": "code",
   "execution_count": null,
   "metadata": {},
   "outputs": [],
   "source": [
    "#非普通工业最大最小预测\n",
    "train_size = int(0.85 * len(df))\n",
    "test_size = len(df) - train_size\n",
    "df = metrics_df.fillna(0)\n",
    "univariate_df = df[['date', '非普工业']].copy()\n",
    "univariate_df.columns = ['ds', 'y']\n",
    "\n",
    "train = univariate_df.iloc[:train_size, :]\n",
    "\n",
    "x_train, y_train = pd.DataFrame(univariate_df.iloc[:train_size, 0]), pd.DataFrame(univariate_df.iloc[:train_size, 1])\n",
    "x_valid, y_valid = pd.DataFrame(univariate_df.iloc[train_size:, 0]), pd.DataFrame(univariate_df.iloc[train_size:, 1])\n",
    "\n",
    "print(len(train), len(x_valid))"
   ]
  },
  {
   "cell_type": "code",
   "execution_count": null,
   "metadata": {},
   "outputs": [],
   "source": [
    "trend_evaluate = sm.tsa.arma_order_select_ic(y_train, ic=['aic', 'bic'], trend='c')\n",
    "print('train AIC', trend_evaluate.aic_min_order)\n",
    "print('train BIC', trend_evaluate.bic_min_order)"
   ]
  },
  {
   "cell_type": "code",
   "execution_count": null,
   "metadata": {},
   "outputs": [],
   "source": [
    "# Fit model\n",
    "model = ARIMA(y_train, order=(4,0,2))\n",
    "model_fit = model.fit()\n",
    "\n",
    "# Pediction with ARIMA\n",
    "conf = model_fit.forecast(len(y_valid))\n",
    "# Calcuate metrics\n",
    "score_mae = mean_absolute_error(y_valid, y_pred)\n",
    "score_rmse = math.sqrt(mean_squared_error(y_valid, y_pred))\n",
    "y_true = np.array(y_valid)\n",
    "y_pred = np.array(y_pred)\n",
    "print('最大有功功率MSE:',metrics.mean_squared_error(y_true, y_pred))\n",
    "print('最大有功功率RMSE:',np.sqrt(metrics.mean_squared_error(y_true, y_pred)))\n",
    "print('最大有功功率MAE:',metrics.mean_absolute_error(y_true, y_pred)) \n",
    "print('最大有功功率MAPE:',mape(y_true, y_pred))"
   ]
  },
  {
   "cell_type": "code",
   "execution_count": null,
   "metadata": {},
   "outputs": [],
   "source": [
    "# Fit model\n",
    "model = ARIMA(y_train, order=(3,0,1))\n",
    "model_fit = model.fit()\n",
    "\n",
    "# Pediction with ARIMA\n",
    "conf = model_fit.forecast(len(y_valid))\n",
    "# Calcuate metrics\n",
    "score_mae = mean_absolute_error(y_valid, y_pred)\n",
    "score_rmse = math.sqrt(mean_squared_error(y_valid, y_pred))\n",
    "y_true = np.array(y_valid)\n",
    "y_pred = np.array(y_pred)\n",
    "print('最大有功功率MSE:',metrics.mean_squared_error(y_true, y_pred))\n",
    "print('最大有功功率RMSE:',np.sqrt(metrics.mean_squared_error(y_true, y_pred)))\n",
    "print('最大有功功率MAE:',metrics.mean_absolute_error(y_true, y_pred)) \n",
    "print('最大有功功率MAPE:',mape(y_true, y_pred))"
   ]
  },
  {
   "cell_type": "code",
   "execution_count": null,
   "metadata": {},
   "outputs": [],
   "source": [
    "pred =  model_fit.forecast(len(y))\n",
    "pred = pd.DataFrame(pred)\n",
    "pred.index = y.index\n",
    "y['数据时间'] = y['数据时间'].astype(str)\n",
    "y['非普工业最大总有功功率(KM)'] = pred"
   ]
  },
  {
   "cell_type": "code",
   "execution_count": null,
   "metadata": {},
   "outputs": [],
   "source": [
    "train_size = int(0.85 * len(df))\n",
    "test_size = len(df) - train_size\n",
    "df = metrics_df1.fillna(0)\n",
    "univariate_df = df[['date', '非普工业']].copy()\n",
    "univariate_df.columns = ['ds', 'y']\n",
    "\n",
    "train = univariate_df.iloc[:train_size, :]\n",
    "\n",
    "x_train, y_train = pd.DataFrame(univariate_df.iloc[:train_size, 0]), pd.DataFrame(univariate_df.iloc[:train_size, 1])\n",
    "x_valid, y_valid = pd.DataFrame(univariate_df.iloc[train_size:, 0]), pd.DataFrame(univariate_df.iloc[train_size:, 1])\n",
    "\n",
    "print(len(train), len(x_valid))"
   ]
  },
  {
   "cell_type": "code",
   "execution_count": null,
   "metadata": {},
   "outputs": [],
   "source": [
    "trend_evaluate = sm.tsa.arma_order_select_ic(y_train, ic=['aic', 'bic'], trend='c')\n",
    "print('train AIC', trend_evaluate.aic_min_order)\n",
    "print('train BIC', trend_evaluate.bic_min_order)"
   ]
  },
  {
   "cell_type": "code",
   "execution_count": null,
   "metadata": {},
   "outputs": [],
   "source": [
    "# Fit model\n",
    "model = ARIMA(y_train, order=(1,0,2))\n",
    "model_fit = model.fit()\n",
    "\n",
    "# Pediction with ARIMA\n",
    "y_pred = model_fit.forecast(len(y_valid))\n",
    "# Calcuate metrics\n",
    "score_mae = mean_absolute_error(y_valid, y_pred)\n",
    "score_rmse = math.sqrt(mean_squared_error(y_valid, y_pred))\n",
    "y_true = np.array(y_valid)\n",
    "y_pred = np.array(y_pred)\n",
    "print('最小有功功率MSE:',metrics.mean_squared_error(y_true, y_pred))\n",
    "print('最小有功功率RMSE:',np.sqrt(metrics.mean_squared_error(y_true, y_pred)))\n",
    "print('最小有功功率MAE:',metrics.mean_absolute_error(y_true, y_pred)) \n",
    "print('最小有功功率MAPE:',mape(y_true, y_pred))\n",
    "pred =  model_fit.forecast(len(y))\n",
    "pred = pd.DataFrame(pred)\n",
    "pred.index = y.index\n",
    "y['数据时间'] = y['数据时间'].astype(str)\n",
    "y['非普工业最小总有功功率(KM)'] = pred"
   ]
  },
  {
   "cell_type": "code",
   "execution_count": null,
   "metadata": {},
   "outputs": [],
   "source": [
    "y.to_csv('第二大问第二小问未来预测.csv',index=0)"
   ]
  },
  {
   "cell_type": "code",
   "execution_count": null,
   "metadata": {},
   "outputs": [],
   "source": []
  }
 ],
 "metadata": {
  "kernelspec": {
   "display_name": "Python 3",
   "language": "python",
   "name": "python3"
  },
  "language_info": {
   "codemirror_mode": {
    "name": "ipython",
    "version": 3
   },
   "file_extension": ".py",
   "mimetype": "text/x-python",
   "name": "python",
   "nbconvert_exporter": "python",
   "pygments_lexer": "ipython3",
   "version": "3.7.6"
  }
 },
 "nbformat": 4,
 "nbformat_minor": 5
}
