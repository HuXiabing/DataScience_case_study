{
 "cells": [
  {
   "cell_type": "code",
   "execution_count": null,
   "metadata": {},
   "outputs": [],
   "source": [
    "import numpy as np\n",
    "from sklearn import metrics\n",
    "def mape(y_true, y_pred):\n",
    "    return np.mean(np.abs((y_pred - y_true) / y_true))"
   ]
  },
  {
   "cell_type": "code",
   "execution_count": null,
   "metadata": {},
   "outputs": [],
   "source": [
    "import numpy as np\n",
    "import pandas as pd\n",
    "\n",
    "import seaborn as sns \n",
    "import matplotlib.pyplot as plt \n",
    "from colorama import Fore\n",
    "from statsmodels.tsa.arima_model import ARIMA\n",
    "import statsmodels.api as sm\n",
    "from sklearn.metrics import mean_absolute_error, mean_squared_error\n",
    "import math\n",
    "from sklearn.preprocessing import LabelEncoder\n",
    "import warnings # Supress warnings \n",
    "warnings.filterwarnings('ignore')\n",
    "plt.rcParams['font.sans-serif'] = ['SimHei']  # 用来正常显示中文标签\n",
    "plt.rcParams['axes.unicode_minus'] = False  # 用来正常显示负号\n",
    "np.random.seed(7)"
   ]
  },
  {
   "cell_type": "markdown",
   "metadata": {},
   "source": [
    "# 数据导入"
   ]
  },
  {
   "cell_type": "code",
   "execution_count": null,
   "metadata": {},
   "outputs": [],
   "source": [
    "#df = label\n",
    "df = pd.read_csv(r\"附件1-区域15分钟负荷数据.csv\")\n",
    "df  = df.rename(columns={'数据时间':'date'})\n",
    "# df = df[126000:]  #选取多少数据进行预测"
   ]
  },
  {
   "cell_type": "code",
   "execution_count": null,
   "metadata": {},
   "outputs": [],
   "source": [
    "#划分数据集\n",
    "train_size = int(0.85 * len(df))\n",
    "test_size = len(df) - train_size\n",
    "df = df.fillna(0)\n",
    "univariate_df = df[['date', '总有功功率（kw）']].copy()\n",
    "univariate_df.columns = ['ds', 'y']\n",
    "\n",
    "train = univariate_df.iloc[:train_size, :]\n",
    "\n",
    "x_train, y_train = pd.DataFrame(univariate_df.iloc[:train_size, 0]), pd.DataFrame(univariate_df.iloc[:train_size, 1])\n",
    "x_valid, y_valid = pd.DataFrame(univariate_df.iloc[train_size:, 0]), pd.DataFrame(univariate_df.iloc[train_size:, 1])\n",
    "\n",
    "print(len(train), len(x_valid))"
   ]
  },
  {
   "cell_type": "code",
   "execution_count": null,
   "metadata": {},
   "outputs": [],
   "source": [
    "# 模型预测+精度分析\n",
    "trend_evaluate = sm.tsa.arma_order_select_ic(y_train, ic=['aic', 'bic'], trend='nc')\n",
    "print('train AIC', trend_evaluate.aic_min_order)\n",
    "print('train BIC', trend_evaluate.bic_min_order)"
   ]
  },
  {
   "cell_type": "code",
   "execution_count": null,
   "metadata": {},
   "outputs": [],
   "source": [
    "# Fit model\n",
    "model = ARIMA(y_train, order=(4,0,0))\n",
    "model_fit = model.fit()\n",
    "\n",
    "# Prediction with ARIMA\n",
    "y_pred = model_fit.forecast(len(y_valid))\n",
    "# print(y_pred)\n",
    "# Calcuate metrics\n",
    "score_mae = mean_absolute_error(y_valid, y_pred[0])\n",
    "score_rmse = math.sqrt(mean_squared_error(y_valid, y_pred[0]))\n",
    "\n",
    "y_true = np.array(y_valid)\n",
    "y_pred = np.array(y_pred[0])\n",
    "print('MSE:',metrics.mean_squared_error(y_true, y_pred))\n",
    "print('RMSE:',np.sqrt(metrics.mean_squared_error(y_true, y_pred)))\n",
    "print('MAE:',metrics.mean_absolute_error(y_true, y_pred)) \n",
    "print('MAPE:',mape(y_true, y_pred))"
   ]
  },
  {
   "cell_type": "code",
   "execution_count": null,
   "metadata": {},
   "outputs": [],
   "source": [
    "# Fit model\n",
    "model = ARIMA(y_train, order=(4,0,0))\n",
    "model_fit = model.fit()\n",
    "\n",
    "# Prediction with ARIMA\n",
    "y_pred = model_fit.forecast(len(y_valid))\n",
    "# Calcuate metrics\n",
    "score_mae = mean_absolute_error(y_valid, y_pred[1])\n",
    "score_rmse = math.sqrt(mean_squared_error(y_valid, y_pred[1]))\n",
    "\n",
    "y_true = np.array(y_valid)\n",
    "y_pred = np.array(y_pred[1])\n",
    "print('MSE:',metrics.mean_squared_error(y_true, y_pred))\n",
    "print('RMSE:',np.sqrt(metrics.mean_squared_error(y_true, y_pred)))\n",
    "print('MAE:',metrics.mean_absolute_error(y_true, y_pred)) \n",
    "print('MAPE:',mape(y_true, y_pred))"
   ]
  },
  {
   "cell_type": "code",
   "execution_count": null,
   "metadata": {},
   "outputs": [],
   "source": [
    "y = pd.read_excel(r'未来三个月.xls')\n",
    "pred =  model_fit.forecast(len(y))"
   ]
  },
  {
   "cell_type": "code",
   "execution_count": null,
   "metadata": {},
   "outputs": [],
   "source": [
    "# pd.DataFrame([pred[0],pred[1],pred[2][:,0],pred[2][:,1]]).T"
   ]
  },
  {
   "cell_type": "code",
   "execution_count": null,
   "metadata": {},
   "outputs": [],
   "source": [
    "pred =  model_fit.forecast(len(y))\n",
    "pred = pd.DataFrame(pred[0])\n",
    "pred.index = y.index\n",
    "y['数据时间'] = y['数据时间'].astype(str)\n",
    "y['总有功功率(KM)'] = pred"
   ]
  },
  {
   "cell_type": "code",
   "execution_count": null,
   "metadata": {},
   "outputs": [],
   "source": [
    "y['数据时间'] = y['数据时间'].apply(lambda x: x.split(' ')[0])"
   ]
  },
  {
   "cell_type": "code",
   "execution_count": null,
   "metadata": {},
   "outputs": [],
   "source": [
    "y_max = y['总有功功率(KM)'].max()\n",
    "y[y['总有功功率(KM)']==y_max]"
   ]
  },
  {
   "cell_type": "code",
   "execution_count": null,
   "metadata": {},
   "outputs": [],
   "source": [
    "y_min = y['总有功功率(KM)'].min()\n",
    "y[y['总有功功率(KM)']== y_min]"
   ]
  },
  {
   "cell_type": "code",
   "execution_count": null,
   "metadata": {},
   "outputs": [],
   "source": [
    "pd.DataFrame(y).to_csv('未来三个月预测.csv',index=0)"
   ]
  },
  {
   "cell_type": "code",
   "execution_count": null,
   "metadata": {},
   "outputs": [],
   "source": [
    "# y_min = y.groupby(['数据时间'])['总有功功率(KM)'].min()\n",
    "# pd.DataFrame(y_max).to_csv('未来三个月每天最小值.csv')"
   ]
  },
  {
   "cell_type": "code",
   "execution_count": null,
   "metadata": {},
   "outputs": [],
   "source": []
  }
 ],
 "metadata": {
  "kernelspec": {
   "display_name": "Python 3",
   "language": "python",
   "name": "python3"
  },
  "language_info": {
   "codemirror_mode": {
    "name": "ipython",
    "version": 3
   },
   "file_extension": ".py",
   "mimetype": "text/x-python",
   "name": "python",
   "nbconvert_exporter": "python",
   "pygments_lexer": "ipython3",
   "version": "3.7.6"
  }
 },
 "nbformat": 4,
 "nbformat_minor": 5
}
