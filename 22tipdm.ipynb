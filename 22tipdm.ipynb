{
 "cells": [
  {
   "cell_type": "markdown",
   "metadata": {},
   "source": [
    "针对问题一本次赛题为长序列时间序列预测任务，对数据进行了处理与特征提取。代码首先对数据进行可视化，其次对数据进行特征工程，最后通过机器学习catboost、xgboost、lightgbm进行预测，包括数据清洗、特征工程、模型预测以及后期优化策略，神经网络代码LSTM以及时序prophet模型、ARIMA等。"
   ]
  },
  {
   "cell_type": "markdown",
   "metadata": {},
   "source": [
    "针对问题二，时间突变检测，包括MK突变检验，统计学检验，t检验，多种检验方式。"
   ]
  },
  {
   "cell_type": "code",
   "execution_count": null,
   "metadata": {},
   "outputs": [],
   "source": [
    "import pandas as pd\n",
    "from pathlib import Path\n",
    "import matplotlib.pyplot as plt\n",
    "import plotly\n",
    "import plotly.graph_objects as go\n",
    "import plotly.io as pio\n",
    "from plotly.offline import download_plotlyjs, init_notebook_mode, plot, iplot\n",
    "from chart_studio import plotly as py\n",
    "import matplotlib.pyplot as plt\n",
    "import plotly.graph_objs as go\n",
    "init_notebook_mode(connected=True)\n",
    "import warnings\n",
    "warnings.filterwarnings('ignore')\n",
    "from pylab import mpl \n",
    "mpl.rcParams['font.sans-serif'] = ['FangSong'] # 指定默认字体 \n",
    "mpl.rcParams['axes.unicode_minus'] = False # 解决保存图像是负号'-'显示为方块的问题"
   ]
  },
  {
   "cell_type": "code",
   "execution_count": null,
   "metadata": {},
   "outputs": [],
   "source": [
    "import pandas as pd \n",
    "import numpy as np\n",
    "import matplotlib.pyplot as plt \n",
    "import seaborn as sns \n",
    "%matplotlib  inline\n",
    "plt.style.use('seaborn-darkgrid')\n",
    "sns.set(style = 'darkgrid')\n",
    "import warnings\n",
    "warnings.filterwarnings(\"ignore\")\n",
    "import lightgbm as lgb  \n",
    "from sklearn.preprocessing import scale\n",
    "from sklearn import metrics\n",
    "import xgboost as xgb \n",
    "from catboost import CatBoostRegressor\n",
    "import time\n",
    "from tqdm import tqdm\n",
    "from sklearn.preprocessing import LabelEncoder\n",
    "import matplotlib\n",
    "from colorama import Fore\n",
    "\n",
    "from sklearn.metrics import mean_absolute_error, mean_squared_error\n",
    "import math\n",
    "import warnings \n",
    "warnings.filterwarnings('ignore')\n",
    "plt.rcParams['font.sans-serif'] = ['SimHei']  # 用来正常显示中文标签\n",
    "plt.rcParams['axes.unicode_minus'] = False  # 用来正常显示负号"
   ]
  },
  {
   "cell_type": "markdown",
   "metadata": {},
   "source": [
    "## 读取数据集"
   ]
  },
  {
   "cell_type": "code",
   "execution_count": null,
   "metadata": {},
   "outputs": [],
   "source": [
    "data1 = pd.read_csv(r'附件1-区域15分钟负荷数据.csv')\n",
    "data2 = pd.read_csv(r'附件2-行业日负荷数据.csv')\n",
    "data3 = pd.read_csv(r'附件3-气象数据.csv')"
   ]
  },
  {
   "cell_type": "code",
   "execution_count": null,
   "metadata": {},
   "outputs": [],
   "source": [
    "data3.describe()"
   ]
  },
  {
   "cell_type": "markdown",
   "metadata": {},
   "source": [
    "### 附件三数据预处理"
   ]
  },
  {
   "cell_type": "code",
   "execution_count": null,
   "metadata": {},
   "outputs": [],
   "source": [
    "data3 = data3[1:]\n",
    "#温度特征处理\n",
    "data3['最高温度'] = data3['最高温度'].map(lambda d: d.replace('℃','')).astype(int)\n",
    "data3['最低温度'] = data3['最低温度'].map(lambda d: d.replace('℃','')).astype(int)\n",
    "#天气状况特征处理\n",
    "series = data3.join(data3['天气状况'].str.split('/',expand=True))\n",
    "data3['天气1'] = series[0]\n",
    "data3['天气2'] = series[1]\n",
    "#风向特征处理\n",
    "dic = {'无持续风向<3级':0, '北风4～5级':3, '微风<3级':1, '北风3':2, '东北风3～4级':2, '北风3～4级':2,\n",
    "       '南风3～4级':2, '南风4～5级':3, '东北偏东风2':1, '无持续风向微风':0, '无持续风向1-2级':1, '东风3-4级':2,\n",
    "       '东南风4-5级':3, '东风3～4级':2, '东北风3-4级':2, '东风8-9级':4, '东南风3-4级':2, '北风3-4级':2,\n",
    "       '北风4-5级':3, '南风3-4级':2, '南风1-2级':1, '东南风1-2级':1, '西南风3-4级':2, '东风1-2级':1,\n",
    "       '北风1-2级':1, '东北风1-2级':1, '西南风1-2级':1,'东风3-4级':2,'东南风3～4级':2,'北风3-4级':2,'北风4-5级':3}\n",
    "data3['白天风力风向'] = data3['白天风力风向'].map(dic)\n",
    "data3['夜晚风力风向'] = data3['夜晚风力风向'].map(dic)\n",
    "#天气特征进行有序编码\n",
    "dic1 = {'晴':1, '多云':2, '阴':3,  '小雨':4, '小雨-中雨':5,  '中雨':6, '中雨-大雨':7, '大雨':8,'阵雨':9,'雷阵雨':10}\n",
    "data3['天气1'] = data3['天气1'].map(dic1)\n",
    "data3['天气2'] = data3['天气2'].map(dic1)\n",
    "# del data3['天气状况']\n",
    "data3 = data3.fillna(method = 'ffill') "
   ]
  },
  {
   "cell_type": "code",
   "execution_count": null,
   "metadata": {},
   "outputs": [],
   "source": [
    "xtick = data3.日期.map(lambda x:x[7:-1])[365:31+365]\n",
    "plt.figure(figsize=(15,4))\n",
    "plt.plot(data3.日期.values[365:31+365],data3.白天风力风向.values[365:31+365])\n",
    "plt.plot(data3.日期.values[365:31+365],data3.夜晚风力风向.values[365:31+365])\n",
    "plt.title('2019年一月白天/夜晚风力风向')\n",
    "plt.xticks(np.arange(len(xtick)), xtick, )\n",
    "plt.xlabel('日期(1月)')\n",
    "plt.ylabel('风力风向')\n",
    "plt.legend(['白天风力风向','夜晚风力风向'])\n",
    "plt.savefig('2019年一月风力风向折线图.png')\n",
    "plt.show()"
   ]
  },
  {
   "cell_type": "code",
   "execution_count": null,
   "metadata": {},
   "outputs": [],
   "source": [
    "xtick = data3.日期.map(lambda x:x[7:-1])[:31]\n",
    "plt.figure(figsize=(15,4))\n",
    "plt.plot(data3.日期.values[:31],data3.白天风力风向.values[:31])\n",
    "plt.plot(data3.日期.values[:31],data3.夜晚风力风向.values[:31])\n",
    "plt.title('2018年一月白天/夜晚风力风向')\n",
    "plt.xticks(np.arange(len(xtick)), xtick, )\n",
    "plt.xlabel('日期(1月)')\n",
    "plt.ylabel('风力风向')\n",
    "plt.legend(['白天风力风向','夜晚风力风向'])\n",
    "plt.savefig('2018年一月风力风向折线图.png')\n",
    "plt.show()"
   ]
  },
  {
   "cell_type": "code",
   "execution_count": null,
   "metadata": {},
   "outputs": [],
   "source": [
    "xtick = data3.日期.map(lambda x:x[7:-1])[365:31+365]\n",
    "plt.figure(figsize=(15,4))\n",
    "plt.plot(data3.日期.values[365:31+365],data3.天气1.values[365:31+365])\n",
    "plt.plot(data3.日期.values[365:31+365],data3.天气2.values[365:31+365])\n",
    "plt.title('2019年一月天气状况')\n",
    "plt.xticks(np.arange(len(xtick)), xtick, )\n",
    "plt.xlabel('日期(1月)')\n",
    "plt.ylabel('天气状况')\n",
    "# plt.legend(['初始天气状况','天气状况'])\n",
    "plt.savefig('2019年一月天气状况折线图.png')\n",
    "plt.show()"
   ]
  },
  {
   "cell_type": "code",
   "execution_count": null,
   "metadata": {},
   "outputs": [],
   "source": [
    "xtick = data3.日期.map(lambda x:x[7:-1])[:31]\n",
    "plt.figure(figsize=(15,4))\n",
    "plt.plot(data3.日期.values[:31],data3.天气1.values[:31])\n",
    "plt.plot(data3.日期.values[:31],data3.天气2.values[:31])\n",
    "plt.title('2018年一月天气状况')\n",
    "plt.xticks(np.arange(len(xtick)), xtick, )\n",
    "plt.xlabel('日期(1月)')\n",
    "plt.ylabel('天气状况')\n",
    "# plt.legend(['白天风力风向','夜晚风力风向'])\n",
    "plt.savefig('2018年一月天气状况折线图.png')\n",
    "plt.show()"
   ]
  },
  {
   "cell_type": "code",
   "execution_count": null,
   "metadata": {},
   "outputs": [],
   "source": [
    "xtick = data3.日期.map(lambda x:x[7:-1])[365:31+365]\n",
    "plt.figure(figsize=(15,4))\n",
    "plt.plot(data3.日期.values[365:31+365],data3.最高温度.values[365:31+365])\n",
    "plt.plot(data3.日期.values[365:31+365],data3.最低温度.values[365:31+365])\n",
    "plt.title('2019年一月最高/最低温度')\n",
    "plt.xticks(np.arange(len(xtick)), xtick, )\n",
    "plt.xlabel('日期(1月)')\n",
    "plt.ylabel('温度')\n",
    "plt.legend(['最高温度','最低温度'])\n",
    "plt.savefig('2019年一月温度折线图.png')\n",
    "plt.show()"
   ]
  },
  {
   "cell_type": "code",
   "execution_count": null,
   "metadata": {},
   "outputs": [],
   "source": [
    "xtick = data3.日期.map(lambda x:x[7:-1])[:31]\n",
    "plt.figure(figsize=(15,4))\n",
    "plt.plot(data3.日期.values[:31],data3.最高温度.values[:31])\n",
    "plt.plot(data3.日期.values[:31],data3.最低温度.values[:31])\n",
    "plt.title('2018年一月最高/最低温度')\n",
    "plt.xticks(np.arange(len(xtick)), xtick, )\n",
    "plt.xlabel('日期(1月)')\n",
    "plt.ylabel('温度')\n",
    "plt.legend(['最高温度','最低温度'])\n",
    "plt.savefig('2018年一月温度折线图.png')\n",
    "plt.show()"
   ]
  },
  {
   "cell_type": "code",
   "execution_count": null,
   "metadata": {},
   "outputs": [],
   "source": [
    "#合并附件1，3\n",
    "data1 = data1.rename(columns={'数据时间':'日期1'})\n",
    "data1['日期'] = data1['日期1'].apply(lambda x: x.split(' ')[0])\n",
    "data3.loc[:, '日期'] = pd.to_datetime(data3.loc[:, '日期'], format='%Y年%m月%d日', errors='coerce')\n",
    "data1.loc[:, '日期'] = pd.to_datetime(data1.loc[:, '日期'], format='%Y/%m/%d', errors='coerce')\n",
    "train = data1.merge(data3,on='日期',how='left')\n",
    "# del train['日期']\n",
    "train  = train.rename(columns={'日期1':'date'})\n",
    "del train['日期']\n",
    "del train['天气状况']\n",
    "train.to_csv('当地天气状况处理.csv')"
   ]
  },
  {
   "cell_type": "markdown",
   "metadata": {},
   "source": [
    "## 第一问"
   ]
  },
  {
   "cell_type": "code",
   "execution_count": null,
   "metadata": {
    "scrolled": false
   },
   "outputs": [],
   "source": [
    "df = pd.read_csv(r\"当地天气状况处理.csv\")\n",
    "df = df.drop(['Unnamed: 0'], axis=1)"
   ]
  },
  {
   "cell_type": "code",
   "execution_count": null,
   "metadata": {},
   "outputs": [],
   "source": [
    "df"
   ]
  },
  {
   "cell_type": "code",
   "execution_count": null,
   "metadata": {},
   "outputs": [],
   "source": [
    "from datetime import datetime, date \n",
    "\n",
    "df['date'] = pd.to_datetime(df['date'])\n",
    "df.head().style.set_properties(subset=['date'], **{'background-color': 'yellow'})"
   ]
  },
  {
   "cell_type": "code",
   "execution_count": null,
   "metadata": {},
   "outputs": [],
   "source": [
    "df1 = df[:24*4*15]\n",
    "\n",
    "f, ax = plt.subplots(nrows=7, ncols=1, figsize=(15, 30))\n",
    "\n",
    "\n",
    "for i, column in enumerate(df1.drop('date', axis=1).columns):\n",
    "    sns.lineplot(x=df1['date'], y=df1[column].fillna(method='ffill'), ax=ax[i], color='dodgerblue')\n",
    "#     ax[i].set_title('Feature: {}'.format(column), fontsize=14)\n",
    "    ax[i].set_ylabel(ylabel=column, fontsize=14)\n",
    "                      \n",
    "    ax[i].set_xlim([date(2018, 1, 1), date(2018, 1, 15)])   "
   ]
  },
  {
   "cell_type": "code",
   "execution_count": null,
   "metadata": {},
   "outputs": [],
   "source": [
    "#缺失值、异常值处理\n",
    "f, ax = plt.subplots(nrows=2, ncols=1, figsize=(15, 15))\n",
    "\n",
    "df1['总有功功率（kw）'] = df1['总有功功率（kw）'].replace(np.nan, 180000)\n",
    "ol = df1[df1['总有功功率（kw）']==180000]['总有功功率（kw）'].copy()\n",
    "sns.lineplot(x=df1['date'], y=df1['总有功功率（kw）'].fillna(np.inf), ax=ax[0], color='dodgerblue', label='modified')\n",
    "sns.lineplot(x=df1['date'], y=ol, ax=ax[0], color='red', label='original')\n",
    "\n",
    "ax[0].set_title('Feature: 总有功功率（kw）', fontsize=14)\n",
    "ax[0].set_ylabel(ylabel='总有功功率（kw）', fontsize=14)\n",
    "ax[0].set_xlim([date(2018, 1, 1), date(2018, 1, 15)])\n",
    "\n",
    "o = df1['最高温度'].copy()\n",
    "df1['最高温度'] = df1['最高温度'].replace(0, np.nan)\n",
    "\n",
    "sns.lineplot(x=df1['date'], y=o, ax=ax[1], color='darkorange', label='original')\n",
    "sns.lineplot(x=df1['date'], y=df1['最高温度'].fillna(np.inf), ax=ax[1], color='dodgerblue', label='modified')\n",
    "ax[1].set_title('Feature: 最高温度', fontsize=14)\n",
    "ax[1].set_ylabel(ylabel='最高温度', fontsize=14)\n",
    "ax[1].set_xlim([date(2018, 1, 1), date(2018, 1, 15)])"
   ]
  },
  {
   "cell_type": "code",
   "execution_count": null,
   "metadata": {},
   "outputs": [],
   "source": [
    "f, ax = plt.subplots(nrows=4, ncols=1, figsize=(15, 12))\n",
    "\n",
    "sns.lineplot(x=df['date'], y=df['总有功功率（kw）'].fillna(0), ax=ax[0], color='darkorange', label = 'modified')\n",
    "sns.lineplot(x=df['date'], y=df['总有功功率（kw）'].fillna(np.inf), ax=ax[0], color='dodgerblue', label = 'original')\n",
    "ax[0].set_title('Fill NaN with 0', fontsize=14)\n",
    "ax[0].set_ylabel(ylabel='Volume', fontsize=14)\n",
    "\n",
    "mean_drainage = df['总有功功率（kw）'].mean()\n",
    "sns.lineplot(x=df['date'], y=df['总有功功率（kw）'].fillna(mean_drainage), ax=ax[1], color='darkorange', label = 'modified')\n",
    "sns.lineplot(x=df['date'], y=df['总有功功率（kw）'].fillna(np.inf), ax=ax[1], color='dodgerblue', label = 'original')\n",
    "ax[1].set_title(f'Fill NaN with Mean Value ({mean_drainage:.0f})', fontsize=14)\n",
    "ax[1].set_ylabel(ylabel='Volume', fontsize=14)\n",
    "\n",
    "sns.lineplot(x=df['date'], y=df['总有功功率（kw）'].ffill(), ax=ax[2], color='darkorange', label = 'modified')\n",
    "sns.lineplot(x=df['date'], y=df['总有功功率（kw）'].fillna(np.inf), ax=ax[2], color='dodgerblue', label = 'original')\n",
    "ax[2].set_title(f'FFill', fontsize=14)\n",
    "ax[2].set_ylabel(ylabel='Volume', fontsize=14)\n",
    "\n",
    "sns.lineplot(x=df['date'], y=df['总有功功率（kw）'].interpolate(), ax=ax[3], color='darkorange', label = 'modified')\n",
    "sns.lineplot(x=df['date'], y=df['总有功功率（kw）'].fillna(np.inf), ax=ax[3], color='dodgerblue', label = 'original')\n",
    "ax[3].set_title(f'Interpolate', fontsize=14)\n",
    "ax[3].set_ylabel(ylabel='Volume', fontsize=14)\n",
    "\n",
    "for i in range(4):\n",
    "    ax[i].set_xlim([date(2018, 1, 1), date(2018, 1, 15)])\n",
    "    \n",
    "plt.tight_layout()\n",
    "plt.show()"
   ]
  },
  {
   "cell_type": "code",
   "execution_count": null,
   "metadata": {},
   "outputs": [],
   "source": [
    "df['总有功功率（kw）'] = df['总有功功率（kw）'].interpolate()"
   ]
  },
  {
   "cell_type": "code",
   "execution_count": null,
   "metadata": {},
   "outputs": [],
   "source": [
    "#平稳性检验\n",
    "rolling_window = 52\n",
    "f, ax = plt.subplots(nrows=1, ncols=1, figsize=(15, 6))\n",
    "\n",
    "sns.lineplot(x=df1['date'], y=df1['总有功功率（kw）'], color='dodgerblue')\n",
    "sns.lineplot(x=df1['date'], y=df1['总有功功率（kw）'].rolling(rolling_window).mean(), color='black', label='rolling mean')\n",
    "sns.lineplot(x=df1['date'], y=df1['总有功功率（kw）'].rolling(rolling_window).std(), color='orange', label='rolling std')\n",
    "ax.set_title('Depth to Groundwater: Non-stationary \\nnon-constant mean & non-constant variance', fontsize=14)\n",
    "ax.set_ylabel(ylabel='总有功功率（kw） Volume', fontsize=14)\n",
    "ax.set_xlim([date(2018, 1, 1), date(2018, 1, 15)])\n",
    "plt.tight_layout()\n",
    "plt.savefig('20180101_0115平稳性.png')\n",
    "plt.show()"
   ]
  },
  {
   "cell_type": "code",
   "execution_count": null,
   "metadata": {},
   "outputs": [],
   "source": [
    "from statsmodels.tsa.stattools import adfuller\n",
    "\n",
    "result = adfuller(df['总有功功率（kw）'].values)\n",
    "result"
   ]
  },
  {
   "cell_type": "code",
   "execution_count": null,
   "metadata": {},
   "outputs": [],
   "source": [
    "f, ax = plt.subplots(nrows=1, ncols=1, figsize=(12, 6))\n",
    "\n",
    "def visualize_adfuller_results(series, title, ax=ax):\n",
    "    result = adfuller(series)\n",
    "    significance_level = 0.05\n",
    "    adf_stat = result[0]\n",
    "    p_val = result[1]\n",
    "    crit_val_1 = result[4]['1%']\n",
    "    crit_val_5 = result[4]['5%']\n",
    "    crit_val_10 = result[4]['10%']\n",
    "\n",
    "    if (p_val < significance_level) & ((adf_stat < crit_val_1)):\n",
    "        linecolor = 'red' \n",
    "    elif (p_val < significance_level) & (adf_stat < crit_val_5):\n",
    "        linecolor = 'orange'\n",
    "    elif (p_val < significance_level) & (adf_stat < crit_val_10):\n",
    "        linecolor = 'forestgreen'\n",
    "    else:\n",
    "        linecolor = 'purple'\n",
    "    sns.lineplot(x=df1['date'], y=series, ax=ax, color=linecolor)\n",
    "    ax.set_title(f'ADF Statistic {adf_stat:0.3f}, p-value: {p_val:0.3f}\\nCritical Values 1%: {crit_val_1:0.3f}, 5%: {crit_val_5:0.3f}, 10%: {crit_val_10:0.3f}', fontsize=14)\n",
    "    ax.set_ylabel(ylabel=title, fontsize=14)\n",
    "\n",
    "# visualize_adfuller_results(df1['最高温度'].values, 'Temperature', ax[1, 0])\n",
    "visualize_adfuller_results(df1['总有功功率（kw）'].values, '总有功功率（kw）', )\n",
    "\n",
    "plt.tight_layout()\n",
    "plt.savefig('总有功功率（kw）平稳性.png')\n",
    "plt.show()"
   ]
  },
  {
   "cell_type": "code",
   "execution_count": null,
   "metadata": {},
   "outputs": [],
   "source": [
    "#时序提取\n",
    "df['year'] = pd.DatetimeIndex(df['date']).year\n",
    "df['month'] = pd.DatetimeIndex(df['date']).month\n",
    "df['day'] = pd.DatetimeIndex(df['date']).day\n",
    "df['day_of_year'] = pd.DatetimeIndex(df['date']).dayofyear\n",
    "df['week_of_year'] = pd.DatetimeIndex(df['date']).weekofyear\n",
    "df['quarter'] = pd.DatetimeIndex(df['date']).quarter\n",
    "df['season'] = df['month'] % 12 // 3 + 1\n",
    "\n",
    "df[['date', 'year', 'month', 'day', 'day_of_year', 'week_of_year', 'quarter', 'season']].head()"
   ]
  },
  {
   "cell_type": "markdown",
   "metadata": {},
   "source": [
    "## 模型评价"
   ]
  },
  {
   "cell_type": "code",
   "execution_count": null,
   "metadata": {},
   "outputs": [],
   "source": [
    "def mape(y_true, y_pred):\n",
    "    return np.mean(np.abs((y_pred - y_true) / y_true))\n",
    "\n",
    "y_true = np.array(y_val)  #真实值\n",
    "y_pred = np.array(pred_val_y)  #预测值\n",
    "\n",
    "print('MSE:',metrics.mean_squared_error(y_true, y_pred))\n",
    "\n",
    "print('RMSE:',np.sqrt(metrics.mean_squared_error(y_true, y_pred)))\n",
    "\n",
    "print('MAE:',metrics.mean_absolute_error(y_true, y_pred))\n",
    "\n",
    "print('MAPE:',mape(y_true, y_pred))\n",
    "\n",
    "## R2-score\n",
    "from sklearn.metrics import r2_score\n",
    "print('R2-score:',r2_score(y_true, y_pred))"
   ]
  },
  {
   "cell_type": "markdown",
   "metadata": {},
   "source": [
    "# 第二问第一题"
   ]
  },
  {
   "cell_type": "code",
   "execution_count": null,
   "metadata": {},
   "outputs": [],
   "source": [
    "def plot_anomaly(ts,anomaly_pred = None,anomaly_true=None,file_name = 'file'):\n",
    "    fig = go.Figure()\n",
    "    yhat = go.Scatter(\n",
    "    x = ts.index,\n",
    "    y = ts,\n",
    "    mode = 'lines',  name = ts.name)\n",
    "    fig.add_trace(yhat)\n",
    "    if  anomaly_pred is not None:\n",
    "        status = go.Scatter(\n",
    "        x = anomaly_pred.index,\n",
    "        y = ts.loc[anomaly_pred.index],\n",
    "        mode = 'markers',  name = anomaly_pred.name,marker= {'color':'red','size':10,'symbol':'star','line_width':0})\n",
    "        fig.add_trace(status)\n",
    "    if  anomaly_true is not None:\n",
    "        status = go.Scatter(\n",
    "        x = anomaly_true.index,\n",
    "        y = ts.loc[anomaly_true.index],\n",
    "        mode = 'markers',  name = anomaly_true.name,marker= {'color':'yellow','size':10,'symbol':'star-open','line_width':2})\n",
    "        fig.add_trace(status)   \n",
    "    fig.show()\n",
    "    \n",
    "def plot_anomaly_window(ts,anomaly_pred = None,file_name = 'file',window='1h'):\n",
    "    fig = go.Figure()\n",
    "    yhat = go.Scatter(\n",
    "    x = ts.index,\n",
    "    y = ts,\n",
    "    mode = 'lines',  name = ts.name)\n",
    "    fig.add_trace(yhat)\n",
    "    if  anomaly_pred is not None:\n",
    "        for i in anomaly_pred.index:\n",
    "            fig.add_vrect(x0=i - pd.Timedelta(window),x1= i,line_width=0, fillcolor=\"red\", opacity=0.2) \n",
    "    fig.show()"
   ]
  },
  {
   "cell_type": "code",
   "execution_count": null,
   "metadata": {},
   "outputs": [],
   "source": [
    "import pandas as pd \n",
    "df = pd.read_csv(r\"附件2-行业日负荷数据.csv\")\n",
    "metrics_df=pd.pivot_table(df,values='有功功率最大值（kw）',index='数据时间',columns='行业类型')\n",
    "metrics_df.reset_index(inplace=True)\n",
    "metrics_df.fillna(0,inplace=True)\n",
    "metrics_df.head()\n",
    "metrics_df = metrics_df.rename(columns={'数据时间':'Time'})"
   ]
  },
  {
   "cell_type": "code",
   "execution_count": null,
   "metadata": {},
   "outputs": [],
   "source": [
    "df = metrics_df\n",
    "df['Time']= pd.to_datetime(df['Time'])\n",
    "df.set_index('Time',inplace=True)\n",
    "col = df.columns[0]\n",
    "df.plot()"
   ]
  },
  {
   "cell_type": "code",
   "execution_count": null,
   "metadata": {},
   "outputs": [],
   "source": [
    "col = df.columns[1]\n",
    "min_t = df[col].quantile(0.05)\n",
    "max_t = df[col].quantile(0.95)\n",
    "df[col+'threshold'] = (df[col].clip(lower = min_t,upper=max_t) != df[col])\n",
    "plot_anomaly(df[col],anomaly_pred = df[df[col+'threshold']==True][col+'threshold'],anomaly_true=None,file_name = 'file')\n",
    "df[col+'突变量级'] = df[col].diff()\n",
    "a = pd.DataFrame(df[df[col]>df[col].quantile(0.95)][[col,col+'突变量级']])\n",
    "b = pd.DataFrame(df[df[col]<df[col].quantile(0.05)][[col,col+'突变量级']])\n",
    "pd.concat([a,b]).to_csv('大工业用电突变.csv',index = 1)"
   ]
  },
  {
   "cell_type": "code",
   "execution_count": null,
   "metadata": {},
   "outputs": [],
   "source": [
    "col = df.columns[2]\n",
    "print(col)\n",
    "min_t = df[col].quantile(0.05)\n",
    "max_t = df[col].quantile(0.95)\n",
    "df[col+'threshold'] = (df[col].clip(lower = min_t,upper=max_t) != df[col])\n",
    "plot_anomaly(df[col],anomaly_pred = df[df[col+'threshold']==True][col+'threshold'],anomaly_true=None,file_name = 'file')\n",
    "df[col+'突变量级'] = df[col].diff()\n",
    "a = pd.DataFrame(df[df[col]>df[col].quantile(0.95)][[col,col+'突变量级']])\n",
    "b = pd.DataFrame(df[df[col]<df[col].quantile(0.05)][[col,col+'突变量级']])\n",
    "pd.concat([a,b]).to_csv(col+'突变.csv',index=1)"
   ]
  },
  {
   "cell_type": "code",
   "execution_count": null,
   "metadata": {},
   "outputs": [],
   "source": [
    "col = df.columns[3]\n",
    "print(col)\n",
    "min_t = df[col].quantile(0.05)\n",
    "max_t = df[col].quantile(0.95)\n",
    "df[col+'threshold'] = (df[col].clip(lower = min_t,upper=max_t) != df[col])\n",
    "plot_anomaly(df[col],anomaly_pred = df[df[col+'threshold']==True][col+'threshold'],anomaly_true=None,file_name = 'file')\n",
    "df[col+'突变量级'] = df[col].diff()\n",
    "a = pd.DataFrame(df[df[col]>df[col].quantile(0.95)][[col,col+'突变量级']])\n",
    "b = pd.DataFrame(df[df[col]<df[col].quantile(0.05)][[col,col+'突变量级']])\n",
    "pd.concat([a,b]).to_csv(col+'突变.csv',index=1)"
   ]
  },
  {
   "cell_type": "code",
   "execution_count": null,
   "metadata": {},
   "outputs": [],
   "source": [
    "col = df.columns[0]\n",
    "print(col)\n",
    "min_t = df[col].quantile(0.05)\n",
    "max_t = df[col].quantile(0.95)\n",
    "df[col+'threshold'] = (df[col].clip(lower = min_t,upper=max_t) != df[col])\n",
    "plot_anomaly(df[col],anomaly_pred = df[df[col+'threshold']==True][col+'threshold'],anomaly_true=None,file_name = 'file')\n",
    "df[col+'突变量级'] = df[col].diff()\n",
    "a = pd.DataFrame(df[df[col]>df[col].quantile(0.95)][[col,col+'突变量级']])\n",
    "b = pd.DataFrame(df[df[col]<df[col].quantile(0.05)][[col,col+'突变量级']])\n",
    "pd.concat([a,b]).to_csv(col+'突变.csv',index=1)"
   ]
  }
 ],
 "metadata": {
  "kernelspec": {
   "display_name": "Python 3",
   "language": "python",
   "name": "python3"
  },
  "language_info": {
   "codemirror_mode": {
    "name": "ipython",
    "version": 3
   },
   "file_extension": ".py",
   "mimetype": "text/x-python",
   "name": "python",
   "nbconvert_exporter": "python",
   "pygments_lexer": "ipython3",
   "version": "3.7.6"
  }
 },
 "nbformat": 4,
 "nbformat_minor": 4
}
